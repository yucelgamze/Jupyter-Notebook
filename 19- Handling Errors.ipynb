{
 "cells": [
  {
   "cell_type": "code",
   "execution_count": 1,
   "id": "6d264c97",
   "metadata": {},
   "outputs": [
    {
     "name": "stdout",
     "output_type": "stream",
     "text": [
      "enter age: 24\n"
     ]
    }
   ],
   "source": [
    "age = input(\"enter age: \")"
   ]
  },
  {
   "cell_type": "code",
   "execution_count": 2,
   "id": "fac0a82c",
   "metadata": {},
   "outputs": [
    {
     "data": {
      "text/plain": [
       "'24'"
      ]
     },
     "execution_count": 2,
     "metadata": {},
     "output_type": "execute_result"
    }
   ],
   "source": [
    "age"
   ]
  },
  {
   "cell_type": "code",
   "execution_count": 3,
   "id": "c9b58b4e",
   "metadata": {},
   "outputs": [],
   "source": [
    "#try-except"
   ]
  },
  {
   "cell_type": "code",
   "execution_count": 7,
   "id": "69cb3f1c",
   "metadata": {},
   "outputs": [
    {
     "name": "stdout",
     "output_type": "stream",
     "text": [
      "enter your age: 24\n",
      "48\n",
      "else executed\n",
      "finally\n"
     ]
    }
   ],
   "source": [
    "while True:\n",
    "    try:\n",
    "        yourAge = int(input(\"enter your age: \"))\n",
    "        print(yourAge * 2)\n",
    "        #break\n",
    "    except ValueError:\n",
    "        print(\"PLEASE ENTER YOUR 'AGE'!!!\")\n",
    "    else:\n",
    "        print(\"else executed\")\n",
    "        break\n",
    "    finally:\n",
    "        print(\"finally\")"
   ]
  },
  {
   "cell_type": "code",
   "execution_count": null,
   "id": "15a98b01",
   "metadata": {},
   "outputs": [],
   "source": []
  }
 ],
 "metadata": {
  "kernelspec": {
   "display_name": "Python 3 (ipykernel)",
   "language": "python",
   "name": "python3"
  },
  "language_info": {
   "codemirror_mode": {
    "name": "ipython",
    "version": 3
   },
   "file_extension": ".py",
   "mimetype": "text/x-python",
   "name": "python",
   "nbconvert_exporter": "python",
   "pygments_lexer": "ipython3",
   "version": "3.9.7"
  }
 },
 "nbformat": 4,
 "nbformat_minor": 5
}
