{
 "cells": [
  {
   "cell_type": "code",
   "execution_count": 1,
   "id": "2464c9b6",
   "metadata": {},
   "outputs": [],
   "source": [
    "import pandas as pd\n",
    "import numpy as np"
   ]
  },
  {
   "cell_type": "code",
   "execution_count": 2,
   "id": "1b9c83e2",
   "metadata": {},
   "outputs": [],
   "source": [
    "#series"
   ]
  },
  {
   "cell_type": "code",
   "execution_count": 4,
   "id": "ee794671",
   "metadata": {},
   "outputs": [],
   "source": [
    "my_dict = {\"James\" : 50, \"Lars\" : 60, \"Kirk\" : 55, \"Rob\" : 65}"
   ]
  },
  {
   "cell_type": "code",
   "execution_count": 5,
   "id": "609a889d",
   "metadata": {},
   "outputs": [
    {
     "data": {
      "text/plain": [
       "James    50\n",
       "Lars     60\n",
       "Kirk     55\n",
       "Rob      65\n",
       "dtype: int64"
      ]
     },
     "execution_count": 5,
     "metadata": {},
     "output_type": "execute_result"
    }
   ],
   "source": [
    "pd.Series(my_dict)"
   ]
  },
  {
   "cell_type": "code",
   "execution_count": 6,
   "id": "6e789beb",
   "metadata": {},
   "outputs": [],
   "source": [
    "age_list = [50,60,55,65]"
   ]
  },
  {
   "cell_type": "code",
   "execution_count": 7,
   "id": "ef8cf934",
   "metadata": {},
   "outputs": [],
   "source": [
    "name_list = [\"James\",\"Lars\",\"Kirk\",\"Rob\"]"
   ]
  },
  {
   "cell_type": "code",
   "execution_count": 8,
   "id": "89ad1121",
   "metadata": {},
   "outputs": [
    {
     "data": {
      "text/plain": [
       "James    50\n",
       "Lars     60\n",
       "Kirk     55\n",
       "Rob      65\n",
       "dtype: int64"
      ]
     },
     "execution_count": 8,
     "metadata": {},
     "output_type": "execute_result"
    }
   ],
   "source": [
    "pd.Series(age_list, name_list)"
   ]
  },
  {
   "cell_type": "code",
   "execution_count": 9,
   "id": "3bf98b65",
   "metadata": {},
   "outputs": [
    {
     "data": {
      "text/plain": [
       "James    50\n",
       "Lars     60\n",
       "Kirk     55\n",
       "Rob      65\n",
       "dtype: int64"
      ]
     },
     "execution_count": 9,
     "metadata": {},
     "output_type": "execute_result"
    }
   ],
   "source": [
    "pd.Series(data=age_list, index=name_list)"
   ]
  },
  {
   "cell_type": "code",
   "execution_count": 11,
   "id": "ef191278",
   "metadata": {},
   "outputs": [],
   "source": [
    "numpy_array = np.arange(0,8)"
   ]
  },
  {
   "cell_type": "code",
   "execution_count": 12,
   "id": "3ad8a59b",
   "metadata": {},
   "outputs": [
    {
     "data": {
      "text/plain": [
       "array([0, 1, 2, 3, 4, 5, 6, 7])"
      ]
     },
     "execution_count": 12,
     "metadata": {},
     "output_type": "execute_result"
    }
   ],
   "source": [
    "numpy_array"
   ]
  },
  {
   "cell_type": "code",
   "execution_count": 13,
   "id": "3aec7df8",
   "metadata": {},
   "outputs": [
    {
     "data": {
      "text/plain": [
       "0    0\n",
       "1    1\n",
       "2    2\n",
       "3    3\n",
       "4    4\n",
       "5    5\n",
       "6    6\n",
       "7    7\n",
       "dtype: int64"
      ]
     },
     "execution_count": 13,
     "metadata": {},
     "output_type": "execute_result"
    }
   ],
   "source": [
    "pd.Series(numpy_array)"
   ]
  },
  {
   "cell_type": "code",
   "execution_count": 14,
   "id": "f27d0c19",
   "metadata": {},
   "outputs": [],
   "source": [
    "new_numpy_array = np.array([10,20,30,40])"
   ]
  },
  {
   "cell_type": "code",
   "execution_count": 15,
   "id": "f439baf8",
   "metadata": {},
   "outputs": [
    {
     "data": {
      "text/plain": [
       "0    10\n",
       "1    20\n",
       "2    30\n",
       "3    40\n",
       "dtype: int64"
      ]
     },
     "execution_count": 15,
     "metadata": {},
     "output_type": "execute_result"
    }
   ],
   "source": [
    "pd.Series(new_numpy_array)"
   ]
  },
  {
   "cell_type": "code",
   "execution_count": 16,
   "id": "de32c770",
   "metadata": {},
   "outputs": [
    {
     "data": {
      "text/plain": [
       "array([10, 20, 30, 40])"
      ]
     },
     "execution_count": 16,
     "metadata": {},
     "output_type": "execute_result"
    }
   ],
   "source": [
    "new_numpy_array"
   ]
  },
  {
   "cell_type": "code",
   "execution_count": 17,
   "id": "527e7ff9",
   "metadata": {},
   "outputs": [
    {
     "data": {
      "text/plain": [
       "['James', 'Lars', 'Kirk', 'Rob']"
      ]
     },
     "execution_count": 17,
     "metadata": {},
     "output_type": "execute_result"
    }
   ],
   "source": [
    "name_list"
   ]
  },
  {
   "cell_type": "code",
   "execution_count": 18,
   "id": "f9986e2c",
   "metadata": {},
   "outputs": [
    {
     "data": {
      "text/plain": [
       "James    10\n",
       "Lars     20\n",
       "Kirk     30\n",
       "Rob      40\n",
       "dtype: int64"
      ]
     },
     "execution_count": 18,
     "metadata": {},
     "output_type": "execute_result"
    }
   ],
   "source": [
    "pd.Series(data=new_numpy_array,index=name_list)"
   ]
  },
  {
   "cell_type": "code",
   "execution_count": 19,
   "id": "0e06396b",
   "metadata": {},
   "outputs": [],
   "source": [
    "my_series = pd.Series(data=new_numpy_array,index=name_list)"
   ]
  },
  {
   "cell_type": "code",
   "execution_count": 20,
   "id": "b8742704",
   "metadata": {},
   "outputs": [
    {
     "data": {
      "text/plain": [
       "James    10\n",
       "Lars     20\n",
       "Kirk     30\n",
       "Rob      40\n",
       "dtype: int64"
      ]
     },
     "execution_count": 20,
     "metadata": {},
     "output_type": "execute_result"
    }
   ],
   "source": [
    "my_series"
   ]
  },
  {
   "cell_type": "code",
   "execution_count": 21,
   "id": "52c752e5",
   "metadata": {},
   "outputs": [
    {
     "data": {
      "text/plain": [
       "pandas.core.series.Series"
      ]
     },
     "execution_count": 21,
     "metadata": {},
     "output_type": "execute_result"
    }
   ],
   "source": [
    "type(my_series)"
   ]
  },
  {
   "cell_type": "code",
   "execution_count": 22,
   "id": "76261441",
   "metadata": {},
   "outputs": [
    {
     "data": {
      "text/plain": [
       "30"
      ]
     },
     "execution_count": 22,
     "metadata": {},
     "output_type": "execute_result"
    }
   ],
   "source": [
    "my_series[\"Kirk\"]"
   ]
  },
  {
   "cell_type": "code",
   "execution_count": 23,
   "id": "3dce95db",
   "metadata": {},
   "outputs": [],
   "source": [
    "my_series[\"Kirk\"] = 60"
   ]
  },
  {
   "cell_type": "code",
   "execution_count": 25,
   "id": "3887f3c7",
   "metadata": {},
   "outputs": [
    {
     "data": {
      "text/plain": [
       "James    10\n",
       "Lars     20\n",
       "Kirk     60\n",
       "Rob      40\n",
       "dtype: int64"
      ]
     },
     "execution_count": 25,
     "metadata": {},
     "output_type": "execute_result"
    }
   ],
   "source": [
    "my_series"
   ]
  },
  {
   "cell_type": "code",
   "execution_count": 26,
   "id": "5c31a885",
   "metadata": {},
   "outputs": [],
   "source": [
    "quiz_results1 = pd.Series(data=[70,60,100],index=[\"A\",\"B\",\"C\"])"
   ]
  },
  {
   "cell_type": "code",
   "execution_count": 27,
   "id": "772bfa7a",
   "metadata": {},
   "outputs": [],
   "source": [
    "quiz_results2 = pd.Series(data=[80,30,50],index=[\"A\",\"B\",\"C\"])"
   ]
  },
  {
   "cell_type": "code",
   "execution_count": 28,
   "id": "b86e4652",
   "metadata": {},
   "outputs": [
    {
     "data": {
      "text/plain": [
       "A     70\n",
       "B     60\n",
       "C    100\n",
       "dtype: int64"
      ]
     },
     "execution_count": 28,
     "metadata": {},
     "output_type": "execute_result"
    }
   ],
   "source": [
    "quiz_results1"
   ]
  },
  {
   "cell_type": "code",
   "execution_count": 29,
   "id": "441f6329",
   "metadata": {},
   "outputs": [
    {
     "data": {
      "text/plain": [
       "A    80\n",
       "B    30\n",
       "C    50\n",
       "dtype: int64"
      ]
     },
     "execution_count": 29,
     "metadata": {},
     "output_type": "execute_result"
    }
   ],
   "source": [
    "quiz_results2"
   ]
  },
  {
   "cell_type": "code",
   "execution_count": 30,
   "id": "5e663ebe",
   "metadata": {},
   "outputs": [
    {
     "data": {
      "text/plain": [
       "A    150\n",
       "B     90\n",
       "C    150\n",
       "dtype: int64"
      ]
     },
     "execution_count": 30,
     "metadata": {},
     "output_type": "execute_result"
    }
   ],
   "source": [
    "quiz_results1 + quiz_results2"
   ]
  },
  {
   "cell_type": "code",
   "execution_count": 31,
   "id": "c7716097",
   "metadata": {},
   "outputs": [],
   "source": [
    "exam_results1 = pd.Series(data=[70,60,100],index=[\"A\",\"B\",\"C\"])"
   ]
  },
  {
   "cell_type": "code",
   "execution_count": 32,
   "id": "114dd01b",
   "metadata": {},
   "outputs": [],
   "source": [
    "exam_results2 = pd.Series(data=[70,60,100],index=[\"A\",\"D\",\"C\"])"
   ]
  },
  {
   "cell_type": "code",
   "execution_count": 33,
   "id": "98bbfb45",
   "metadata": {},
   "outputs": [
    {
     "data": {
      "text/plain": [
       "A    140.0\n",
       "B      NaN\n",
       "C    200.0\n",
       "D      NaN\n",
       "dtype: float64"
      ]
     },
     "execution_count": 33,
     "metadata": {},
     "output_type": "execute_result"
    }
   ],
   "source": [
    "exam_results1 + exam_results2"
   ]
  },
  {
   "cell_type": "code",
   "execution_count": null,
   "id": "ddf5e5d8",
   "metadata": {},
   "outputs": [],
   "source": []
  }
 ],
 "metadata": {
  "kernelspec": {
   "display_name": "Python 3 (ipykernel)",
   "language": "python",
   "name": "python3"
  },
  "language_info": {
   "codemirror_mode": {
    "name": "ipython",
    "version": 3
   },
   "file_extension": ".py",
   "mimetype": "text/x-python",
   "name": "python",
   "nbconvert_exporter": "python",
   "pygments_lexer": "ipython3",
   "version": "3.9.7"
  }
 },
 "nbformat": 4,
 "nbformat_minor": 5
}
