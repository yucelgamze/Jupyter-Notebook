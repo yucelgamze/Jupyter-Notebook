{
 "cells": [
  {
   "cell_type": "code",
   "execution_count": 1,
   "id": "050a32da",
   "metadata": {},
   "outputs": [],
   "source": [
    "x = 5\n",
    "y = 2"
   ]
  },
  {
   "cell_type": "code",
   "execution_count": 2,
   "id": "995d062a",
   "metadata": {},
   "outputs": [
    {
     "data": {
      "text/plain": [
       "False"
      ]
     },
     "execution_count": 2,
     "metadata": {},
     "output_type": "execute_result"
    }
   ],
   "source": [
    "x < y"
   ]
  },
  {
   "cell_type": "code",
   "execution_count": 3,
   "id": "adfb536a",
   "metadata": {},
   "outputs": [
    {
     "data": {
      "text/plain": [
       "True"
      ]
     },
     "execution_count": 3,
     "metadata": {},
     "output_type": "execute_result"
    }
   ],
   "source": [
    "x > y"
   ]
  },
  {
   "cell_type": "code",
   "execution_count": 4,
   "id": "219f4cd2",
   "metadata": {},
   "outputs": [],
   "source": [
    "z = 5.0"
   ]
  },
  {
   "cell_type": "code",
   "execution_count": 5,
   "id": "21255301",
   "metadata": {},
   "outputs": [
    {
     "data": {
      "text/plain": [
       "True"
      ]
     },
     "execution_count": 5,
     "metadata": {},
     "output_type": "execute_result"
    }
   ],
   "source": [
    "x >= z"
   ]
  },
  {
   "cell_type": "code",
   "execution_count": 6,
   "id": "3e91448d",
   "metadata": {},
   "outputs": [
    {
     "data": {
      "text/plain": [
       "True"
      ]
     },
     "execution_count": 6,
     "metadata": {},
     "output_type": "execute_result"
    }
   ],
   "source": [
    "x <= z"
   ]
  },
  {
   "cell_type": "code",
   "execution_count": 7,
   "id": "d535a9f1",
   "metadata": {},
   "outputs": [
    {
     "data": {
      "text/plain": [
       "True"
      ]
     },
     "execution_count": 7,
     "metadata": {},
     "output_type": "execute_result"
    }
   ],
   "source": [
    "x == z"
   ]
  },
  {
   "cell_type": "code",
   "execution_count": 8,
   "id": "b7a31182",
   "metadata": {},
   "outputs": [
    {
     "data": {
      "text/plain": [
       "False"
      ]
     },
     "execution_count": 8,
     "metadata": {},
     "output_type": "execute_result"
    }
   ],
   "source": [
    "x == y"
   ]
  },
  {
   "cell_type": "code",
   "execution_count": 9,
   "id": "9ca41e85",
   "metadata": {},
   "outputs": [
    {
     "data": {
      "text/plain": [
       "True"
      ]
     },
     "execution_count": 9,
     "metadata": {},
     "output_type": "execute_result"
    }
   ],
   "source": [
    "x != y"
   ]
  },
  {
   "cell_type": "code",
   "execution_count": 10,
   "id": "cd2a61e7",
   "metadata": {},
   "outputs": [
    {
     "data": {
      "text/plain": [
       "True"
      ]
     },
     "execution_count": 10,
     "metadata": {},
     "output_type": "execute_result"
    }
   ],
   "source": [
    "True and True"
   ]
  },
  {
   "cell_type": "code",
   "execution_count": 11,
   "id": "b7f19c49",
   "metadata": {},
   "outputs": [
    {
     "data": {
      "text/plain": [
       "False"
      ]
     },
     "execution_count": 11,
     "metadata": {},
     "output_type": "execute_result"
    }
   ],
   "source": [
    "False and True"
   ]
  },
  {
   "cell_type": "code",
   "execution_count": 12,
   "id": "5e31ce74",
   "metadata": {},
   "outputs": [
    {
     "data": {
      "text/plain": [
       "True"
      ]
     },
     "execution_count": 12,
     "metadata": {},
     "output_type": "execute_result"
    }
   ],
   "source": [
    "False or True "
   ]
  },
  {
   "cell_type": "code",
   "execution_count": 13,
   "id": "a7bb57ac",
   "metadata": {},
   "outputs": [
    {
     "data": {
      "text/plain": [
       "True"
      ]
     },
     "execution_count": 13,
     "metadata": {},
     "output_type": "execute_result"
    }
   ],
   "source": [
    "1 > 3 or 3 < 5"
   ]
  },
  {
   "cell_type": "code",
   "execution_count": 14,
   "id": "f94502d5",
   "metadata": {},
   "outputs": [
    {
     "data": {
      "text/plain": [
       "False"
      ]
     },
     "execution_count": 14,
     "metadata": {},
     "output_type": "execute_result"
    }
   ],
   "source": [
    "5 < 0 and 8 < 9"
   ]
  },
  {
   "cell_type": "code",
   "execution_count": 15,
   "id": "f946e384",
   "metadata": {},
   "outputs": [
    {
     "data": {
      "text/plain": [
       "False"
      ]
     },
     "execution_count": 15,
     "metadata": {},
     "output_type": "execute_result"
    }
   ],
   "source": [
    "not 1 == 1"
   ]
  },
  {
   "cell_type": "code",
   "execution_count": 16,
   "id": "f7791377",
   "metadata": {},
   "outputs": [
    {
     "data": {
      "text/plain": [
       "True"
      ]
     },
     "execution_count": 16,
     "metadata": {},
     "output_type": "execute_result"
    }
   ],
   "source": [
    "10 in [10,20,30]"
   ]
  },
  {
   "cell_type": "code",
   "execution_count": 17,
   "id": "7ea71dd8",
   "metadata": {},
   "outputs": [
    {
     "data": {
      "text/plain": [
       "True"
      ]
     },
     "execution_count": 17,
     "metadata": {},
     "output_type": "execute_result"
    }
   ],
   "source": [
    "5 not in [10,20,30]"
   ]
  },
  {
   "cell_type": "code",
   "execution_count": 18,
   "id": "f17a1868",
   "metadata": {},
   "outputs": [],
   "source": [
    "mySet = {10,20,30}"
   ]
  },
  {
   "cell_type": "code",
   "execution_count": 19,
   "id": "0257bd21",
   "metadata": {},
   "outputs": [
    {
     "data": {
      "text/plain": [
       "True"
      ]
     },
     "execution_count": 19,
     "metadata": {},
     "output_type": "execute_result"
    }
   ],
   "source": [
    "10 in mySet"
   ]
  },
  {
   "cell_type": "code",
   "execution_count": 20,
   "id": "5a98bf3c",
   "metadata": {},
   "outputs": [],
   "source": [
    "myDictionary = {\"a\":10,\"b\":20,\"c\":30}"
   ]
  },
  {
   "cell_type": "code",
   "execution_count": 21,
   "id": "60fa1693",
   "metadata": {},
   "outputs": [
    {
     "data": {
      "text/plain": [
       "True"
      ]
     },
     "execution_count": 21,
     "metadata": {},
     "output_type": "execute_result"
    }
   ],
   "source": [
    "10 in myDictionary.values()"
   ]
  },
  {
   "cell_type": "code",
   "execution_count": 22,
   "id": "d47b82a6",
   "metadata": {},
   "outputs": [
    {
     "data": {
      "text/plain": [
       "True"
      ]
     },
     "execution_count": 22,
     "metadata": {},
     "output_type": "execute_result"
    }
   ],
   "source": [
    "\"a\" in myDictionary.keys()"
   ]
  },
  {
   "cell_type": "code",
   "execution_count": 23,
   "id": "11d0d5c1",
   "metadata": {},
   "outputs": [
    {
     "data": {
      "text/plain": [
       "True"
      ]
     },
     "execution_count": 23,
     "metadata": {},
     "output_type": "execute_result"
    }
   ],
   "source": [
    "10 in (10,20,30)"
   ]
  },
  {
   "cell_type": "code",
   "execution_count": 24,
   "id": "f7fa23a4",
   "metadata": {},
   "outputs": [],
   "source": [
    "my_superhero = \"Ironman\""
   ]
  },
  {
   "cell_type": "code",
   "execution_count": 25,
   "id": "7bb6a1ce",
   "metadata": {},
   "outputs": [
    {
     "data": {
      "text/plain": [
       "False"
      ]
     },
     "execution_count": 25,
     "metadata": {},
     "output_type": "execute_result"
    }
   ],
   "source": [
    "my_superhero == \"Scarlet Witch\""
   ]
  },
  {
   "cell_type": "code",
   "execution_count": 26,
   "id": "2d4030c0",
   "metadata": {},
   "outputs": [
    {
     "name": "stdout",
     "output_type": "stream",
     "text": [
      "Vision 💖 Wanda\n",
      "🦾🚀👩🏼‍💻\n",
      "\n",
      "\n",
      "💖💖💖💖💖💖💖💖💖💖💖💖💖💖💖💖💖💖💖💖💖💖💖💖💖💖💖💖💖💖💖💖💖💖💖💖💖💖\n",
      "\n",
      "\n",
      "🧠🦾🚀👩🏼‍💻🐬🧠🦾🚀👩🏼‍💻🐬🧠🦾🚀👩🏼‍💻🐬🧠🦾🚀👩🏼‍💻🐬🧠🦾🚀👩🏼‍💻🐬🧠🦾🚀👩🏼‍💻🐬🧠🦾🚀👩🏼‍💻🐬🧠🦾🚀👩🏼‍💻🐬\n"
     ]
    }
   ],
   "source": [
    "if my_superhero == \"Ironman\":\n",
    "    #indendation\n",
    "    print(\"Vision 💖 Wanda\")\n",
    "    print(\"🦾🚀👩🏼‍💻\")\n",
    "    print(\"\\n\")\n",
    "    print(\"💖💖💖💖💖💖💖💖💖💖💖💖💖💖💖💖💖💖💖💖💖💖💖💖💖💖💖💖💖💖💖💖💖💖💖💖💖💖\")\n",
    "    print(\"\\n\")\n",
    "print(\"🧠🦾🚀👩🏼‍💻🐬🧠🦾🚀👩🏼‍💻🐬🧠🦾🚀👩🏼‍💻🐬🧠🦾🚀👩🏼‍💻🐬🧠🦾🚀👩🏼‍💻🐬🧠🦾🚀👩🏼‍💻🐬🧠🦾🚀👩🏼‍💻🐬🧠🦾🚀👩🏼‍💻🐬\")"
   ]
  },
  {
   "cell_type": "code",
   "execution_count": null,
   "id": "aa71d4db",
   "metadata": {},
   "outputs": [],
   "source": [
    "my_superhero = input(\"enter superhero: \")"
   ]
  },
  {
   "cell_type": "code",
   "execution_count": null,
   "id": "757f62cf",
   "metadata": {},
   "outputs": [],
   "source": [
    "if my_superhero == \"Wanda\":\n",
    "    print(\"Wanda\")\n",
    "elif my_superhero == \"Ironman\":\n",
    "    print(\"Ironman\")\n",
    "elif my_superhero == \"Vision\":\n",
    "    print(\"Vision\")\n",
    "elif my_superhero == \"Luke Skywalker\":\n",
    "    print(\"Luke Skywalker\")\n",
    "else:\n",
    "    print(\":)\")"
   ]
  },
  {
   "cell_type": "code",
   "execution_count": null,
   "id": "0314e502",
   "metadata": {},
   "outputs": [],
   "source": [
    "my_age = 24 "
   ]
  },
  {
   "cell_type": "code",
   "execution_count": null,
   "id": "2ed1e9ee",
   "metadata": {},
   "outputs": [],
   "source": [
    "if my_age <= 18:\n",
    "    print(\"age <= 18\")\n",
    "elif my_age > 18 and my_age <= 30:\n",
    "    print(\"18 - age - 30\")\n",
    "elif my_age > 30 and my_age <= 40:\n",
    "    print(\"30 - age - 40\")\n",
    "else:\n",
    "    print(\"age > 40\")"
   ]
  },
  {
   "cell_type": "code",
   "execution_count": null,
   "id": "3b714891",
   "metadata": {},
   "outputs": [],
   "source": []
  }
 ],
 "metadata": {
  "kernelspec": {
   "display_name": "Python 3 (ipykernel)",
   "language": "python",
   "name": "python3"
  },
  "language_info": {
   "codemirror_mode": {
    "name": "ipython",
    "version": 3
   },
   "file_extension": ".py",
   "mimetype": "text/x-python",
   "name": "python",
   "nbconvert_exporter": "python",
   "pygments_lexer": "ipython3",
   "version": "3.9.7"
  }
 },
 "nbformat": 4,
 "nbformat_minor": 5
}
