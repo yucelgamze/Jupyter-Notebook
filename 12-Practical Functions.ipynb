{
 "cells": [
  {
   "cell_type": "code",
   "execution_count": 1,
   "id": "fe75b56c",
   "metadata": {},
   "outputs": [],
   "source": [
    "def divideNumber(x):\n",
    "    return x / 2"
   ]
  },
  {
   "cell_type": "code",
   "execution_count": 2,
   "id": "d0c7944b",
   "metadata": {},
   "outputs": [
    {
     "data": {
      "text/plain": [
       "44.0"
      ]
     },
     "execution_count": 2,
     "metadata": {},
     "output_type": "execute_result"
    }
   ],
   "source": [
    "divideNumber(88)"
   ]
  },
  {
   "cell_type": "code",
   "execution_count": 3,
   "id": "4f08c1a4",
   "metadata": {},
   "outputs": [],
   "source": [
    "myList = [3,5,7,10,20,30]"
   ]
  },
  {
   "cell_type": "code",
   "execution_count": 4,
   "id": "3b4d3a96",
   "metadata": {},
   "outputs": [
    {
     "name": "stdout",
     "output_type": "stream",
     "text": [
      "[1.5, 2.5, 3.5, 5.0, 10.0, 15.0]\n"
     ]
    }
   ],
   "source": [
    "myResultList = []\n",
    "for i in myList:\n",
    "    myResultList.append(divideNumber(i))\n",
    "print(myResultList)"
   ]
  },
  {
   "cell_type": "markdown",
   "id": "0da7033f",
   "metadata": {},
   "source": [
    "# map"
   ]
  },
  {
   "cell_type": "code",
   "execution_count": 5,
   "id": "44cd5038",
   "metadata": {},
   "outputs": [
    {
     "name": "stdout",
     "output_type": "stream",
     "text": [
      "Help on class map in module builtins:\n",
      "\n",
      "class map(object)\n",
      " |  map(func, *iterables) --> map object\n",
      " |  \n",
      " |  Make an iterator that computes the function using arguments from\n",
      " |  each of the iterables.  Stops when the shortest iterable is exhausted.\n",
      " |  \n",
      " |  Methods defined here:\n",
      " |  \n",
      " |  __getattribute__(self, name, /)\n",
      " |      Return getattr(self, name).\n",
      " |  \n",
      " |  __iter__(self, /)\n",
      " |      Implement iter(self).\n",
      " |  \n",
      " |  __next__(self, /)\n",
      " |      Implement next(self).\n",
      " |  \n",
      " |  __reduce__(...)\n",
      " |      Return state information for pickling.\n",
      " |  \n",
      " |  ----------------------------------------------------------------------\n",
      " |  Static methods defined here:\n",
      " |  \n",
      " |  __new__(*args, **kwargs) from builtins.type\n",
      " |      Create and return a new object.  See help(type) for accurate signature.\n",
      "\n"
     ]
    }
   ],
   "source": [
    "help(map)"
   ]
  },
  {
   "cell_type": "code",
   "execution_count": 6,
   "id": "01e2dc9e",
   "metadata": {},
   "outputs": [
    {
     "data": {
      "text/plain": [
       "<map at 0x7fa2cea72820>"
      ]
     },
     "execution_count": 6,
     "metadata": {},
     "output_type": "execute_result"
    }
   ],
   "source": [
    "map(divideNumber,myList)"
   ]
  },
  {
   "cell_type": "code",
   "execution_count": 7,
   "id": "bbf2bc4b",
   "metadata": {},
   "outputs": [
    {
     "data": {
      "text/plain": [
       "[1.5, 2.5, 3.5, 5.0, 10.0, 15.0]"
      ]
     },
     "execution_count": 7,
     "metadata": {},
     "output_type": "execute_result"
    }
   ],
   "source": [
    "list(map(divideNumber,myList))"
   ]
  },
  {
   "cell_type": "code",
   "execution_count": 8,
   "id": "9ba88e1e",
   "metadata": {},
   "outputs": [],
   "source": [
    "def controlS(s):\n",
    "    return \"Gamze\" in s"
   ]
  },
  {
   "cell_type": "code",
   "execution_count": 9,
   "id": "0a2945b5",
   "metadata": {},
   "outputs": [
    {
     "data": {
      "text/plain": [
       "True"
      ]
     },
     "execution_count": 9,
     "metadata": {},
     "output_type": "execute_result"
    }
   ],
   "source": [
    "controlS(\"Gamze\")"
   ]
  },
  {
   "cell_type": "code",
   "execution_count": 10,
   "id": "cdf156f3",
   "metadata": {},
   "outputs": [],
   "source": [
    "myStringList = [\"Jenniffer\",\"Naomi\",\"Kirsten\",\"Gamze\"]"
   ]
  },
  {
   "cell_type": "code",
   "execution_count": 11,
   "id": "5999c902",
   "metadata": {},
   "outputs": [
    {
     "data": {
      "text/plain": [
       "[False, False, False, True]"
      ]
     },
     "execution_count": 11,
     "metadata": {},
     "output_type": "execute_result"
    }
   ],
   "source": [
    "list(map(controlS,myStringList))"
   ]
  },
  {
   "cell_type": "markdown",
   "id": "e0ab8e5a",
   "metadata": {},
   "source": [
    "# filter"
   ]
  },
  {
   "cell_type": "code",
   "execution_count": 12,
   "id": "f96b8e7f",
   "metadata": {},
   "outputs": [
    {
     "data": {
      "text/plain": [
       "<filter at 0x7fa2ceaa5580>"
      ]
     },
     "execution_count": 12,
     "metadata": {},
     "output_type": "execute_result"
    }
   ],
   "source": [
    "filter(controlS,myStringList)"
   ]
  },
  {
   "cell_type": "code",
   "execution_count": 13,
   "id": "0c014a6d",
   "metadata": {},
   "outputs": [
    {
     "data": {
      "text/plain": [
       "['Gamze']"
      ]
     },
     "execution_count": 13,
     "metadata": {},
     "output_type": "execute_result"
    }
   ],
   "source": [
    "list(filter(controlS,myStringList))"
   ]
  },
  {
   "cell_type": "markdown",
   "id": "82ea18ec",
   "metadata": {},
   "source": [
    "# lambda"
   ]
  },
  {
   "cell_type": "code",
   "execution_count": 14,
   "id": "30a46dbe",
   "metadata": {},
   "outputs": [],
   "source": [
    "multiplyLambda = lambda x : x*3"
   ]
  },
  {
   "cell_type": "code",
   "execution_count": 15,
   "id": "d2e71574",
   "metadata": {},
   "outputs": [
    {
     "data": {
      "text/plain": [
       "24"
      ]
     },
     "execution_count": 15,
     "metadata": {},
     "output_type": "execute_result"
    }
   ],
   "source": [
    "multiplyLambda(8)"
   ]
  },
  {
   "cell_type": "code",
   "execution_count": 16,
   "id": "3666161f",
   "metadata": {},
   "outputs": [
    {
     "data": {
      "text/plain": [
       "function"
      ]
     },
     "execution_count": 16,
     "metadata": {},
     "output_type": "execute_result"
    }
   ],
   "source": [
    "type(multiplyLambda)"
   ]
  },
  {
   "cell_type": "code",
   "execution_count": 17,
   "id": "a152f924",
   "metadata": {},
   "outputs": [],
   "source": [
    "numList = [10,20,30,40,80]"
   ]
  },
  {
   "cell_type": "code",
   "execution_count": 18,
   "id": "161beb78",
   "metadata": {},
   "outputs": [
    {
     "data": {
      "text/plain": [
       "[2.5, 5.0, 7.5, 10.0, 20.0]"
      ]
     },
     "execution_count": 18,
     "metadata": {},
     "output_type": "execute_result"
    }
   ],
   "source": [
    "list(map(lambda x : x / 4,numList))"
   ]
  },
  {
   "cell_type": "markdown",
   "id": "0fc77f42",
   "metadata": {},
   "source": [
    "# scope"
   ]
  },
  {
   "cell_type": "code",
   "execution_count": 19,
   "id": "83ad1fbf",
   "metadata": {},
   "outputs": [],
   "source": [
    "x = 20\n",
    "\n",
    "def multiply(i):\n",
    "    x = 5\n",
    "    return i * x"
   ]
  },
  {
   "cell_type": "code",
   "execution_count": 20,
   "id": "0b7352d9",
   "metadata": {},
   "outputs": [
    {
     "data": {
      "text/plain": [
       "50"
      ]
     },
     "execution_count": 20,
     "metadata": {},
     "output_type": "execute_result"
    }
   ],
   "source": [
    "multiply(10)"
   ]
  },
  {
   "cell_type": "code",
   "execution_count": 21,
   "id": "763fa464",
   "metadata": {},
   "outputs": [
    {
     "name": "stdout",
     "output_type": "stream",
     "text": [
      "20\n"
     ]
    }
   ],
   "source": [
    "print(x)"
   ]
  },
  {
   "cell_type": "markdown",
   "id": "28fc8df4",
   "metadata": {},
   "source": [
    "# LEGB-> L:Local, E:Enclosing, G:Global, B:Built in"
   ]
  },
  {
   "cell_type": "code",
   "execution_count": 36,
   "id": "96bff3b5",
   "metadata": {},
   "outputs": [],
   "source": [
    "#Global\n",
    "myString = \"Gamzecik\"\n",
    "\n",
    "def myFunction():\n",
    "    #Enclosing\n",
    "    myString = \"Gamzecik 2\"\n",
    "    print(myString)\n",
    "    \n",
    "    def myFunction2():\n",
    "        #Local\n",
    "        myString = \"Gamzecik 3\"\n",
    "        print(myString)\n",
    "    myFunction2()"
   ]
  },
  {
   "cell_type": "code",
   "execution_count": 23,
   "id": "88caf1c4",
   "metadata": {},
   "outputs": [
    {
     "data": {
      "text/plain": [
       "'Gamzecik'"
      ]
     },
     "execution_count": 23,
     "metadata": {},
     "output_type": "execute_result"
    }
   ],
   "source": [
    "myString"
   ]
  },
  {
   "cell_type": "code",
   "execution_count": 37,
   "id": "70416715",
   "metadata": {},
   "outputs": [
    {
     "name": "stdout",
     "output_type": "stream",
     "text": [
      "Gamzecik 2\n",
      "Gamzecik 3\n"
     ]
    }
   ],
   "source": [
    "myFunction()"
   ]
  },
  {
   "cell_type": "code",
   "execution_count": null,
   "id": "023e0620",
   "metadata": {},
   "outputs": [],
   "source": []
  }
 ],
 "metadata": {
  "kernelspec": {
   "display_name": "Python 3 (ipykernel)",
   "language": "python",
   "name": "python3"
  },
  "language_info": {
   "codemirror_mode": {
    "name": "ipython",
    "version": 3
   },
   "file_extension": ".py",
   "mimetype": "text/x-python",
   "name": "python",
   "nbconvert_exporter": "python",
   "pygments_lexer": "ipython3",
   "version": "3.9.7"
  }
 },
 "nbformat": 4,
 "nbformat_minor": 5
}
