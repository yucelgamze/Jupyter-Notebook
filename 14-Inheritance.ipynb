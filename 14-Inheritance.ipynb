{
 "cells": [
  {
   "cell_type": "markdown",
   "id": "5586633a",
   "metadata": {},
   "source": [
    "# inheritance"
   ]
  },
  {
   "cell_type": "code",
   "execution_count": 2,
   "id": "e6ce74d0",
   "metadata": {},
   "outputs": [],
   "source": [
    "class Musician():\n",
    "    \n",
    "    def __init__(self,name):\n",
    "        self.name = name\n",
    "        print(\"Musician Class\")\n",
    "        \n",
    "    def test1(self):\n",
    "        print(\"test1\")\n",
    "        \n",
    "    def test2(self):\n",
    "        print(\"test2\")"
   ]
  },
  {
   "cell_type": "code",
   "execution_count": 4,
   "id": "9da84256",
   "metadata": {},
   "outputs": [
    {
     "name": "stdout",
     "output_type": "stream",
     "text": [
      "Musician Class\n"
     ]
    }
   ],
   "source": [
    "musician1 = Musician(\"atlas\")"
   ]
  },
  {
   "cell_type": "code",
   "execution_count": 5,
   "id": "02c7b1e6",
   "metadata": {},
   "outputs": [
    {
     "data": {
      "text/plain": [
       "'atlas'"
      ]
     },
     "execution_count": 5,
     "metadata": {},
     "output_type": "execute_result"
    }
   ],
   "source": [
    "musician1.name"
   ]
  },
  {
   "cell_type": "code",
   "execution_count": 7,
   "id": "fb8e78f4",
   "metadata": {},
   "outputs": [
    {
     "name": "stdout",
     "output_type": "stream",
     "text": [
      "test1\n"
     ]
    }
   ],
   "source": [
    "musician1.test1()"
   ]
  },
  {
   "cell_type": "code",
   "execution_count": 8,
   "id": "989581f2",
   "metadata": {},
   "outputs": [
    {
     "name": "stdout",
     "output_type": "stream",
     "text": [
      "test2\n"
     ]
    }
   ],
   "source": [
    "musician1.test2()"
   ]
  },
  {
   "cell_type": "code",
   "execution_count": 19,
   "id": "0ae54d0a",
   "metadata": {},
   "outputs": [],
   "source": [
    "class MusicianPlus(Musician):\n",
    "    \n",
    "    def __init__(self,name):\n",
    "        Musician.__init__(self,name)\n",
    "        print(\"Musician Plus\")\n",
    "    def test3(self):\n",
    "        print(\"test3\")\n",
    "    \n",
    "    #override\n",
    "    def test1(self):\n",
    "        print(\"test1 test1 test1\")"
   ]
  },
  {
   "cell_type": "code",
   "execution_count": 20,
   "id": "435df329",
   "metadata": {},
   "outputs": [
    {
     "name": "stdout",
     "output_type": "stream",
     "text": [
      "Musician Class\n",
      "Musician Plus\n"
     ]
    }
   ],
   "source": [
    "musicianPlus1 = MusicianPlus(\"gamzecik\")"
   ]
  },
  {
   "cell_type": "code",
   "execution_count": 21,
   "id": "69f30756",
   "metadata": {},
   "outputs": [
    {
     "name": "stdout",
     "output_type": "stream",
     "text": [
      "test1 test1 test1\n"
     ]
    }
   ],
   "source": [
    "musicianPlus1.test1()"
   ]
  },
  {
   "cell_type": "code",
   "execution_count": 22,
   "id": "5c853779",
   "metadata": {},
   "outputs": [
    {
     "name": "stdout",
     "output_type": "stream",
     "text": [
      "test2\n"
     ]
    }
   ],
   "source": [
    "musicianPlus1.test2()"
   ]
  },
  {
   "cell_type": "code",
   "execution_count": 23,
   "id": "d1dc4d60",
   "metadata": {},
   "outputs": [
    {
     "name": "stdout",
     "output_type": "stream",
     "text": [
      "test3\n"
     ]
    }
   ],
   "source": [
    "musicianPlus1.test3()"
   ]
  },
  {
   "cell_type": "code",
   "execution_count": null,
   "id": "0831422c",
   "metadata": {},
   "outputs": [],
   "source": []
  }
 ],
 "metadata": {
  "kernelspec": {
   "display_name": "Python 3 (ipykernel)",
   "language": "python",
   "name": "python3"
  },
  "language_info": {
   "codemirror_mode": {
    "name": "ipython",
    "version": 3
   },
   "file_extension": ".py",
   "mimetype": "text/x-python",
   "name": "python",
   "nbconvert_exporter": "python",
   "pygments_lexer": "ipython3",
   "version": "3.9.7"
  }
 },
 "nbformat": 4,
 "nbformat_minor": 5
}
