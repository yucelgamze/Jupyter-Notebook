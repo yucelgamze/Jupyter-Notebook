{
 "cells": [
  {
   "cell_type": "code",
   "execution_count": 1,
   "id": "7de4b8b5",
   "metadata": {},
   "outputs": [],
   "source": [
    "#for loop, while loop"
   ]
  },
  {
   "cell_type": "code",
   "execution_count": 2,
   "id": "064af111",
   "metadata": {},
   "outputs": [],
   "source": [
    "#for loop"
   ]
  },
  {
   "cell_type": "code",
   "execution_count": 3,
   "id": "50900d42",
   "metadata": {},
   "outputs": [],
   "source": [
    "my_list = [10,20,30,40,50,60,70]"
   ]
  },
  {
   "cell_type": "code",
   "execution_count": 4,
   "id": "739b5091",
   "metadata": {},
   "outputs": [
    {
     "data": {
      "text/plain": [
       "4.0"
      ]
     },
     "execution_count": 4,
     "metadata": {},
     "output_type": "execute_result"
    }
   ],
   "source": [
    "my_list[0] / 5 * 2"
   ]
  },
  {
   "cell_type": "code",
   "execution_count": 5,
   "id": "9e176b80",
   "metadata": {},
   "outputs": [
    {
     "data": {
      "text/plain": [
       "8.0"
      ]
     },
     "execution_count": 5,
     "metadata": {},
     "output_type": "execute_result"
    }
   ],
   "source": [
    "my_list[1] / 5 * 2"
   ]
  },
  {
   "cell_type": "code",
   "execution_count": 6,
   "id": "ed0cefae",
   "metadata": {},
   "outputs": [
    {
     "name": "stdout",
     "output_type": "stream",
     "text": [
      "4.0\n",
      "8.0\n",
      "12.0\n",
      "16.0\n",
      "20.0\n",
      "24.0\n",
      "28.0\n"
     ]
    }
   ],
   "source": [
    "for i in my_list:\n",
    "    print(i / 5 * 2)"
   ]
  },
  {
   "cell_type": "code",
   "execution_count": 7,
   "id": "671e17bf",
   "metadata": {},
   "outputs": [
    {
     "name": "stdout",
     "output_type": "stream",
     "text": [
      "30\n",
      "60\n"
     ]
    }
   ],
   "source": [
    "for i in my_list:\n",
    "    if i % 6 == 0:\n",
    "        print(i)"
   ]
  },
  {
   "cell_type": "code",
   "execution_count": 8,
   "id": "a83ded8b",
   "metadata": {},
   "outputs": [],
   "source": [
    "my_string = \"gamzecik is studying\""
   ]
  },
  {
   "cell_type": "code",
   "execution_count": 9,
   "id": "8a21c7e2",
   "metadata": {},
   "outputs": [
    {
     "name": "stdout",
     "output_type": "stream",
     "text": [
      "g\n",
      "a\n",
      "m\n",
      "z\n",
      "e\n",
      "c\n",
      "i\n",
      "k\n",
      " \n",
      "i\n",
      "s\n",
      " \n",
      "s\n",
      "t\n",
      "u\n",
      "d\n",
      "y\n",
      "i\n",
      "n\n",
      "g\n"
     ]
    }
   ],
   "source": [
    "for i in my_string:\n",
    "    print(i)"
   ]
  },
  {
   "cell_type": "code",
   "execution_count": 10,
   "id": "8d9e9ef3",
   "metadata": {},
   "outputs": [],
   "source": [
    "my_tuple = (10,20,30,40,50,60,70)"
   ]
  },
  {
   "cell_type": "code",
   "execution_count": 11,
   "id": "f7b9124f",
   "metadata": {},
   "outputs": [
    {
     "name": "stdout",
     "output_type": "stream",
     "text": [
      "7.5\n",
      "15.0\n",
      "22.5\n",
      "30.0\n",
      "37.5\n",
      "45.0\n",
      "52.5\n"
     ]
    }
   ],
   "source": [
    "for i in my_tuple:\n",
    "    print(i / 4 * 3)"
   ]
  },
  {
   "cell_type": "code",
   "execution_count": 12,
   "id": "b339315f",
   "metadata": {},
   "outputs": [],
   "source": [
    "my_newList = [(\"a\",\"b\"),(\"c\",\"d\"),(\"e\",\"f\"),(\"g\",\"h\")]"
   ]
  },
  {
   "cell_type": "code",
   "execution_count": 13,
   "id": "f884e885",
   "metadata": {},
   "outputs": [
    {
     "data": {
      "text/plain": [
       "4"
      ]
     },
     "execution_count": 13,
     "metadata": {},
     "output_type": "execute_result"
    }
   ],
   "source": [
    "len(my_newList)"
   ]
  },
  {
   "cell_type": "code",
   "execution_count": 14,
   "id": "667ca9fa",
   "metadata": {},
   "outputs": [
    {
     "data": {
      "text/plain": [
       "('a', 'b')"
      ]
     },
     "execution_count": 14,
     "metadata": {},
     "output_type": "execute_result"
    }
   ],
   "source": [
    "my_newList[0]"
   ]
  },
  {
   "cell_type": "code",
   "execution_count": 15,
   "id": "801050f2",
   "metadata": {},
   "outputs": [
    {
     "name": "stdout",
     "output_type": "stream",
     "text": [
      "('a', 'b')\n",
      "('c', 'd')\n",
      "('e', 'f')\n",
      "('g', 'h')\n"
     ]
    }
   ],
   "source": [
    "for i in my_newList:\n",
    "    print(i)"
   ]
  },
  {
   "cell_type": "code",
   "execution_count": 16,
   "id": "b68dd1e7",
   "metadata": {},
   "outputs": [
    {
     "data": {
      "text/plain": [
       "'b'"
      ]
     },
     "execution_count": 16,
     "metadata": {},
     "output_type": "execute_result"
    }
   ],
   "source": [
    "my_newList[0][1]"
   ]
  },
  {
   "cell_type": "code",
   "execution_count": 17,
   "id": "2eb67ec4",
   "metadata": {},
   "outputs": [
    {
     "name": "stdout",
     "output_type": "stream",
     "text": [
      "a\n",
      "c\n",
      "e\n",
      "g\n"
     ]
    }
   ],
   "source": [
    "for (x,y) in my_newList:\n",
    "    print(x)"
   ]
  },
  {
   "cell_type": "code",
   "execution_count": 18,
   "id": "c3d066d0",
   "metadata": {},
   "outputs": [],
   "source": [
    "my_tuple_list = [(1,2,3),(4,5,6),(7,8,9),(10,11,12)]"
   ]
  },
  {
   "cell_type": "code",
   "execution_count": 19,
   "id": "23328fec",
   "metadata": {},
   "outputs": [
    {
     "data": {
      "text/plain": [
       "4"
      ]
     },
     "execution_count": 19,
     "metadata": {},
     "output_type": "execute_result"
    }
   ],
   "source": [
    "len(my_tuple_list)"
   ]
  },
  {
   "cell_type": "code",
   "execution_count": 20,
   "id": "1fca1898",
   "metadata": {},
   "outputs": [
    {
     "name": "stdout",
     "output_type": "stream",
     "text": [
      "1\n",
      "4\n",
      "7\n",
      "10\n"
     ]
    }
   ],
   "source": [
    "for (x,y,z) in my_tuple_list:\n",
    "    print(x)"
   ]
  },
  {
   "cell_type": "code",
   "execution_count": 21,
   "id": "21b77de8",
   "metadata": {},
   "outputs": [],
   "source": [
    "my_set = {1,2,3,4,5}"
   ]
  },
  {
   "cell_type": "code",
   "execution_count": 22,
   "id": "794c9621",
   "metadata": {},
   "outputs": [
    {
     "data": {
      "text/plain": [
       "{1, 2, 3, 4, 5}"
      ]
     },
     "execution_count": 22,
     "metadata": {},
     "output_type": "execute_result"
    }
   ],
   "source": [
    "my_set"
   ]
  },
  {
   "cell_type": "code",
   "execution_count": 23,
   "id": "e193288a",
   "metadata": {},
   "outputs": [
    {
     "data": {
      "text/plain": [
       "5"
      ]
     },
     "execution_count": 23,
     "metadata": {},
     "output_type": "execute_result"
    }
   ],
   "source": [
    "len(my_set)"
   ]
  },
  {
   "cell_type": "code",
   "execution_count": 24,
   "id": "007a16ae",
   "metadata": {},
   "outputs": [
    {
     "data": {
      "text/plain": [
       "set"
      ]
     },
     "execution_count": 24,
     "metadata": {},
     "output_type": "execute_result"
    }
   ],
   "source": [
    "type(my_set)"
   ]
  },
  {
   "cell_type": "code",
   "execution_count": 25,
   "id": "f0ece8fe",
   "metadata": {},
   "outputs": [
    {
     "name": "stdout",
     "output_type": "stream",
     "text": [
      "1\n",
      "2\n",
      "3\n",
      "4\n",
      "5\n"
     ]
    }
   ],
   "source": [
    "for i in my_set:\n",
    "    print(i)"
   ]
  },
  {
   "cell_type": "code",
   "execution_count": 26,
   "id": "1d93d11a",
   "metadata": {},
   "outputs": [],
   "source": [
    "my_dictionary = {\"k1\":100,\"k2\":200,\"k3\":300}"
   ]
  },
  {
   "cell_type": "code",
   "execution_count": 27,
   "id": "072df6b1",
   "metadata": {},
   "outputs": [
    {
     "name": "stdout",
     "output_type": "stream",
     "text": [
      "k1\n",
      "k2\n",
      "k3\n"
     ]
    }
   ],
   "source": [
    "for i in my_dictionary:\n",
    "    print(i)"
   ]
  },
  {
   "cell_type": "code",
   "execution_count": 28,
   "id": "a29ab851",
   "metadata": {},
   "outputs": [
    {
     "name": "stdout",
     "output_type": "stream",
     "text": [
      "k1\n",
      "100\n",
      "200\n",
      "300\n",
      "k2\n",
      "100\n",
      "200\n",
      "300\n",
      "k3\n",
      "100\n",
      "200\n",
      "300\n"
     ]
    }
   ],
   "source": [
    "for (key,value) in my_dictionary.items():\n",
    "        print(key)\n",
    "        for (key,value) in my_dictionary.items():\n",
    "            print(value)"
   ]
  },
  {
   "cell_type": "code",
   "execution_count": 29,
   "id": "db2e0d42",
   "metadata": {},
   "outputs": [],
   "source": [
    "#continue -break -pass"
   ]
  },
  {
   "cell_type": "code",
   "execution_count": 30,
   "id": "b2a0c8e4",
   "metadata": {},
   "outputs": [
    {
     "data": {
      "text/plain": [
       "[10, 20, 30, 40, 50, 60, 70]"
      ]
     },
     "execution_count": 30,
     "metadata": {},
     "output_type": "execute_result"
    }
   ],
   "source": [
    "my_list"
   ]
  },
  {
   "cell_type": "code",
   "execution_count": 31,
   "id": "2ed94d95",
   "metadata": {},
   "outputs": [
    {
     "name": "stdout",
     "output_type": "stream",
     "text": [
      "10\n",
      "20\n",
      "30\n",
      "40\n",
      "-->yes\n"
     ]
    }
   ],
   "source": [
    "for x in my_list:\n",
    "    print(x)\n",
    "    if x == 40:\n",
    "        print(\"-->yes\")\n",
    "        break"
   ]
  },
  {
   "cell_type": "code",
   "execution_count": 32,
   "id": "79cf6e5e",
   "metadata": {},
   "outputs": [
    {
     "data": {
      "text/plain": [
       "[10, 20, 30, 40, 50, 60, 70]"
      ]
     },
     "execution_count": 32,
     "metadata": {},
     "output_type": "execute_result"
    }
   ],
   "source": [
    "my_list"
   ]
  },
  {
   "cell_type": "code",
   "execution_count": 33,
   "id": "98700ead",
   "metadata": {},
   "outputs": [
    {
     "name": "stdout",
     "output_type": "stream",
     "text": [
      "10\n",
      "20\n",
      "30\n",
      "40\n",
      "-->yes\n",
      "50\n",
      "60\n",
      "70\n"
     ]
    }
   ],
   "source": [
    "for x in my_list:\n",
    "    print(x)\n",
    "    if x == 40:\n",
    "        print(\"-->yes\")\n",
    "        continue"
   ]
  },
  {
   "cell_type": "code",
   "execution_count": 34,
   "id": "c0bd4cfd",
   "metadata": {},
   "outputs": [
    {
     "data": {
      "text/plain": [
       "[10, 20, 30, 40, 50, 60, 70]"
      ]
     },
     "execution_count": 34,
     "metadata": {},
     "output_type": "execute_result"
    }
   ],
   "source": [
    "my_list"
   ]
  },
  {
   "cell_type": "code",
   "execution_count": 35,
   "id": "f3a8d989",
   "metadata": {},
   "outputs": [
    {
     "name": "stdout",
     "output_type": "stream",
     "text": [
      "10\n",
      "20\n",
      "30\n",
      "50\n",
      "60\n",
      "70\n"
     ]
    }
   ],
   "source": [
    "for x in my_list:\n",
    "    if x == 40:\n",
    "        continue\n",
    "    print(x)"
   ]
  },
  {
   "cell_type": "code",
   "execution_count": 36,
   "id": "e0352a2e",
   "metadata": {},
   "outputs": [],
   "source": [
    "for i in my_list:\n",
    "    pass #genelde kodu geliştirme aşamasında kullanılır "
   ]
  },
  {
   "cell_type": "code",
   "execution_count": 37,
   "id": "d2ec699e",
   "metadata": {},
   "outputs": [],
   "source": [
    "#while"
   ]
  },
  {
   "cell_type": "code",
   "execution_count": 38,
   "id": "c17cd332",
   "metadata": {},
   "outputs": [],
   "source": [
    "x = 0"
   ]
  },
  {
   "cell_type": "code",
   "execution_count": 39,
   "id": "ab605cfe",
   "metadata": {},
   "outputs": [
    {
     "name": "stdout",
     "output_type": "stream",
     "text": [
      "0\n",
      "1\n",
      "2\n",
      "3\n",
      "4\n",
      "5\n",
      "6\n",
      "7\n",
      "8\n",
      "9\n"
     ]
    }
   ],
   "source": [
    "while x < 10:\n",
    "    print(x)\n",
    "    x = x + 1"
   ]
  },
  {
   "cell_type": "code",
   "execution_count": 40,
   "id": "2393f651",
   "metadata": {},
   "outputs": [],
   "source": [
    "last_list = [10,20,30,40,50,60]"
   ]
  },
  {
   "cell_type": "code",
   "execution_count": 41,
   "id": "cbc6a2f7",
   "metadata": {},
   "outputs": [
    {
     "name": "stdout",
     "output_type": "stream",
     "text": [
      "20 in last_list\n",
      "20 in last_list\n",
      "20 in last_list\n",
      "20 in last_list\n",
      "20 in last_list\n"
     ]
    }
   ],
   "source": [
    "while 20 in last_list:\n",
    "    print(\"20 in last_list\")\n",
    "    last_list.pop()"
   ]
  },
  {
   "cell_type": "code",
   "execution_count": 42,
   "id": "e260f3b6",
   "metadata": {},
   "outputs": [
    {
     "data": {
      "text/plain": [
       "[10, 20, 30, 40, 50, 60, 70]"
      ]
     },
     "execution_count": 42,
     "metadata": {},
     "output_type": "execute_result"
    }
   ],
   "source": [
    "my_list"
   ]
  },
  {
   "cell_type": "code",
   "execution_count": 44,
   "id": "6ff87be1",
   "metadata": {},
   "outputs": [
    {
     "name": "stdout",
     "output_type": "stream",
     "text": [
      "bu benim listem formatlı yazdırdım = [10, 20, 30, 40, 50, 60, 70]\n"
     ]
    }
   ],
   "source": [
    "print(f\"bu benim listem formatlı yazdırdım = {my_list}\")"
   ]
  },
  {
   "cell_type": "code",
   "execution_count": 46,
   "id": "debbed61",
   "metadata": {},
   "outputs": [
    {
     "name": "stdout",
     "output_type": "stream",
     "text": [
      "bu da eski yöntem ile yazdırılmış listem =  [10, 20, 30, 40, 50, 60, 70]\n"
     ]
    }
   ],
   "source": [
    "print(\"bu da eski yöntem ile yazdırılmış listem = \",my_list)"
   ]
  },
  {
   "cell_type": "code",
   "execution_count": 47,
   "id": "c9c52b7d",
   "metadata": {},
   "outputs": [
    {
     "name": "stdout",
     "output_type": "stream",
     "text": [
      "value of p = 0\n",
      "value of p = 1\n",
      "value of p = 2\n",
      "value of p = 3\n",
      "value of p = 4\n",
      "value of p = 5\n",
      "value of p = 6\n",
      "value of p = 7\n",
      "value of p = 8\n",
      "value of p = 9\n",
      "value of p = 10\n",
      "value of p = 11\n",
      "value of p = 12\n",
      "value of p = 13\n",
      "value of p = 14\n",
      "value of p = 15\n",
      "value of p = 16\n",
      "value of p = 17\n",
      "value of p = 18\n",
      "value of p = 19\n"
     ]
    }
   ],
   "source": [
    "p = 0\n",
    "while p < 20:\n",
    "    print(f\"value of p = {p}\")\n",
    "    p += 1"
   ]
  },
  {
   "cell_type": "code",
   "execution_count": null,
   "id": "a4cf2fd1",
   "metadata": {},
   "outputs": [],
   "source": []
  }
 ],
 "metadata": {
  "kernelspec": {
   "display_name": "Python 3 (ipykernel)",
   "language": "python",
   "name": "python3"
  },
  "language_info": {
   "codemirror_mode": {
    "name": "ipython",
    "version": 3
   },
   "file_extension": ".py",
   "mimetype": "text/x-python",
   "name": "python",
   "nbconvert_exporter": "python",
   "pygments_lexer": "ipython3",
   "version": "3.9.7"
  }
 },
 "nbformat": 4,
 "nbformat_minor": 5
}
