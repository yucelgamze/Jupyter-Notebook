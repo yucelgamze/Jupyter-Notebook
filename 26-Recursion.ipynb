{
 "cells": [
  {
   "cell_type": "code",
   "execution_count": 1,
   "id": "3fc01899",
   "metadata": {},
   "outputs": [],
   "source": [
    "def calculate_factorial(x):\n",
    "    if x == 0:\n",
    "        return 1\n",
    "    else:\n",
    "        return x * calculate_factorial(x - 1)"
   ]
  },
  {
   "cell_type": "code",
   "execution_count": 2,
   "id": "e29557d5",
   "metadata": {},
   "outputs": [
    {
     "data": {
      "text/plain": [
       "362880"
      ]
     },
     "execution_count": 2,
     "metadata": {},
     "output_type": "execute_result"
    }
   ],
   "source": [
    "calculate_factorial(9)"
   ]
  },
  {
   "cell_type": "code",
   "execution_count": 3,
   "id": "241d87ea",
   "metadata": {},
   "outputs": [
    {
     "data": {
      "text/plain": [
       "720"
      ]
     },
     "execution_count": 3,
     "metadata": {},
     "output_type": "execute_result"
    }
   ],
   "source": [
    "calculate_factorial(6)"
   ]
  },
  {
   "cell_type": "code",
   "execution_count": 6,
   "id": "be3ecdeb",
   "metadata": {},
   "outputs": [],
   "source": [
    "def calculateContigousSum(x):\n",
    "    if x < 0:\n",
    "        return 0\n",
    "    else:\n",
    "        return x + calculateContigousSum(x - 1)"
   ]
  },
  {
   "cell_type": "code",
   "execution_count": 7,
   "id": "81fd10e1",
   "metadata": {},
   "outputs": [
    {
     "data": {
      "text/plain": [
       "6"
      ]
     },
     "execution_count": 7,
     "metadata": {},
     "output_type": "execute_result"
    }
   ],
   "source": [
    "calculateContigousSum(3)"
   ]
  },
  {
   "cell_type": "code",
   "execution_count": null,
   "id": "0e8911b4",
   "metadata": {},
   "outputs": [],
   "source": []
  }
 ],
 "metadata": {
  "kernelspec": {
   "display_name": "Python 3 (ipykernel)",
   "language": "python",
   "name": "python3"
  },
  "language_info": {
   "codemirror_mode": {
    "name": "ipython",
    "version": 3
   },
   "file_extension": ".py",
   "mimetype": "text/x-python",
   "name": "python",
   "nbconvert_exporter": "python",
   "pygments_lexer": "ipython3",
   "version": "3.9.7"
  }
 },
 "nbformat": 4,
 "nbformat_minor": 5
}
