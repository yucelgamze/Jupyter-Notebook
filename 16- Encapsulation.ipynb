{
 "cells": [
  {
   "cell_type": "markdown",
   "id": "b8705ccd",
   "metadata": {},
   "source": [
    "# encapsulation"
   ]
  },
  {
   "cell_type": "code",
   "execution_count": 1,
   "id": "faa1130f",
   "metadata": {},
   "outputs": [],
   "source": [
    "class Phone():\n",
    "    \n",
    "    def __init__(self,name,price):\n",
    "        self.name = name\n",
    "        self.__price = price\n",
    "        \n",
    "    def info(self):\n",
    "        print(f\"{self.name} price is: {self.__price}\")\n",
    "        \n",
    "    def chancePrice(self,price):\n",
    "        self.__price = price"
   ]
  },
  {
   "cell_type": "code",
   "execution_count": 2,
   "id": "3a6dd0ee",
   "metadata": {},
   "outputs": [],
   "source": [
    "iphone = Phone(\"iPhone 15\",900)"
   ]
  },
  {
   "cell_type": "code",
   "execution_count": 11,
   "id": "72a5f087",
   "metadata": {},
   "outputs": [
    {
     "name": "stdout",
     "output_type": "stream",
     "text": [
      "iPhone 15 price is: 899\n"
     ]
    }
   ],
   "source": [
    "iphone.info()"
   ]
  },
  {
   "cell_type": "code",
   "execution_count": 12,
   "id": "d0b24b86",
   "metadata": {},
   "outputs": [
    {
     "data": {
      "text/plain": [
       "400"
      ]
     },
     "execution_count": 12,
     "metadata": {},
     "output_type": "execute_result"
    }
   ],
   "source": [
    "iphone.price"
   ]
  },
  {
   "cell_type": "code",
   "execution_count": 6,
   "id": "c2d1001b",
   "metadata": {},
   "outputs": [],
   "source": [
    "iphone.price = 400"
   ]
  },
  {
   "cell_type": "code",
   "execution_count": 7,
   "id": "463f9fa8",
   "metadata": {},
   "outputs": [
    {
     "data": {
      "text/plain": [
       "400"
      ]
     },
     "execution_count": 7,
     "metadata": {},
     "output_type": "execute_result"
    }
   ],
   "source": [
    "iphone.price"
   ]
  },
  {
   "cell_type": "code",
   "execution_count": 8,
   "id": "838cab79",
   "metadata": {},
   "outputs": [],
   "source": [
    "#fiyatının değişmesi özelliğini __ ile kısıtladık artık değiştirilemez\n",
    "#diğer dillerde (örn: C++) daha iyi özellikler olan private public var python'da yok maalesef ama bu da iş görüyor"
   ]
  },
  {
   "cell_type": "code",
   "execution_count": 9,
   "id": "2a1d443e",
   "metadata": {},
   "outputs": [],
   "source": [
    "iphone.chancePrice(899)"
   ]
  },
  {
   "cell_type": "code",
   "execution_count": 10,
   "id": "bb7841f3",
   "metadata": {},
   "outputs": [
    {
     "name": "stdout",
     "output_type": "stream",
     "text": [
      "iPhone 15 price is: 899\n"
     ]
    }
   ],
   "source": [
    "iphone.info()"
   ]
  },
  {
   "cell_type": "code",
   "execution_count": null,
   "id": "7c5d5943",
   "metadata": {},
   "outputs": [],
   "source": []
  }
 ],
 "metadata": {
  "kernelspec": {
   "display_name": "Python 3 (ipykernel)",
   "language": "python",
   "name": "python3"
  },
  "language_info": {
   "codemirror_mode": {
    "name": "ipython",
    "version": 3
   },
   "file_extension": ".py",
   "mimetype": "text/x-python",
   "name": "python",
   "nbconvert_exporter": "python",
   "pygments_lexer": "ipython3",
   "version": "3.9.7"
  }
 },
 "nbformat": 4,
 "nbformat_minor": 5
}
