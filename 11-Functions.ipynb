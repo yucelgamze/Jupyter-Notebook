{
 "cells": [
  {
   "cell_type": "code",
   "execution_count": 1,
   "id": "8c7a50a3",
   "metadata": {},
   "outputs": [],
   "source": [
    "#method vs function"
   ]
  },
  {
   "cell_type": "code",
   "execution_count": 2,
   "id": "194d95c6",
   "metadata": {},
   "outputs": [],
   "source": [
    "myName = \"gamze\""
   ]
  },
  {
   "cell_type": "code",
   "execution_count": 3,
   "id": "544e42fa",
   "metadata": {},
   "outputs": [
    {
     "data": {
      "text/plain": [
       "'GAMZE'"
      ]
     },
     "execution_count": 3,
     "metadata": {},
     "output_type": "execute_result"
    }
   ],
   "source": [
    "myName.upper()"
   ]
  },
  {
   "cell_type": "code",
   "execution_count": 4,
   "id": "03a75880",
   "metadata": {},
   "outputs": [],
   "source": [
    "myName_upper = myName.upper()"
   ]
  },
  {
   "cell_type": "code",
   "execution_count": 5,
   "id": "be27247e",
   "metadata": {},
   "outputs": [
    {
     "data": {
      "text/plain": [
       "'GAMZE'"
      ]
     },
     "execution_count": 5,
     "metadata": {},
     "output_type": "execute_result"
    }
   ],
   "source": [
    "myName_upper"
   ]
  },
  {
   "cell_type": "code",
   "execution_count": 6,
   "id": "63bb505e",
   "metadata": {},
   "outputs": [],
   "source": [
    "#functions"
   ]
  },
  {
   "cell_type": "code",
   "execution_count": 7,
   "id": "80e0e6e9",
   "metadata": {},
   "outputs": [],
   "source": [
    "def hello_python():\n",
    "    print(\"hello\")\n",
    "    print(\"python 🐍\")"
   ]
  },
  {
   "cell_type": "code",
   "execution_count": 8,
   "id": "7d018e75",
   "metadata": {},
   "outputs": [
    {
     "name": "stdout",
     "output_type": "stream",
     "text": [
      "hello\n",
      "python 🐍\n"
     ]
    }
   ],
   "source": [
    "hello_python()"
   ]
  },
  {
   "cell_type": "code",
   "execution_count": 9,
   "id": "f82d18be",
   "metadata": {},
   "outputs": [],
   "source": [
    "def hello_name(name):\n",
    "    print(\"hello\")\n",
    "    print(name)"
   ]
  },
  {
   "cell_type": "code",
   "execution_count": 10,
   "id": "5d464f5d",
   "metadata": {},
   "outputs": [
    {
     "name": "stdout",
     "output_type": "stream",
     "text": [
      "hello\n",
      "gamze\n"
     ]
    }
   ],
   "source": [
    "hello_name(\"gamze\")"
   ]
  },
  {
   "cell_type": "code",
   "execution_count": 11,
   "id": "1499503c",
   "metadata": {},
   "outputs": [],
   "source": [
    "def sum_example(a,b):\n",
    "    print(a+b)"
   ]
  },
  {
   "cell_type": "code",
   "execution_count": 12,
   "id": "85c39cbf",
   "metadata": {},
   "outputs": [
    {
     "name": "stdout",
     "output_type": "stream",
     "text": [
      "17\n"
     ]
    }
   ],
   "source": [
    "sum_example(8,9)"
   ]
  },
  {
   "cell_type": "code",
   "execution_count": 13,
   "id": "87a70f08",
   "metadata": {},
   "outputs": [],
   "source": [
    "def summation(a,b,c):\n",
    "    print(a+b+c)"
   ]
  },
  {
   "cell_type": "code",
   "execution_count": 14,
   "id": "0d61e919",
   "metadata": {},
   "outputs": [
    {
     "name": "stdout",
     "output_type": "stream",
     "text": [
      "116\n"
     ]
    }
   ],
   "source": [
    "x = summation(2,25,89)"
   ]
  },
  {
   "cell_type": "code",
   "execution_count": 15,
   "id": "761f05a5",
   "metadata": {},
   "outputs": [],
   "source": [
    "x"
   ]
  },
  {
   "cell_type": "code",
   "execution_count": 16,
   "id": "ae88e3ab",
   "metadata": {},
   "outputs": [
    {
     "data": {
      "text/plain": [
       "NoneType"
      ]
     },
     "execution_count": 16,
     "metadata": {},
     "output_type": "execute_result"
    }
   ],
   "source": [
    "type(x)"
   ]
  },
  {
   "cell_type": "code",
   "execution_count": 17,
   "id": "6ebffea5",
   "metadata": {},
   "outputs": [],
   "source": [
    "def return_summation(a,b,c):\n",
    "    return(a+b+c)"
   ]
  },
  {
   "cell_type": "code",
   "execution_count": 18,
   "id": "c0e00a4b",
   "metadata": {},
   "outputs": [],
   "source": [
    "y = return_summation(4,6,99)"
   ]
  },
  {
   "cell_type": "code",
   "execution_count": 19,
   "id": "0c320adb",
   "metadata": {},
   "outputs": [
    {
     "data": {
      "text/plain": [
       "109"
      ]
     },
     "execution_count": 19,
     "metadata": {},
     "output_type": "execute_result"
    }
   ],
   "source": [
    "y"
   ]
  },
  {
   "cell_type": "code",
   "execution_count": 20,
   "id": "757f5f8d",
   "metadata": {},
   "outputs": [
    {
     "data": {
      "text/plain": [
       "int"
      ]
     },
     "execution_count": 20,
     "metadata": {},
     "output_type": "execute_result"
    }
   ],
   "source": [
    "type(y)"
   ]
  },
  {
   "cell_type": "code",
   "execution_count": 22,
   "id": "6d77bfca",
   "metadata": {},
   "outputs": [],
   "source": [
    "def control_string(s):\n",
    "    if s[0] == \"a\":\n",
    "        print(\"a\")"
   ]
  },
  {
   "cell_type": "code",
   "execution_count": 24,
   "id": "4f48be77",
   "metadata": {},
   "outputs": [
    {
     "name": "stdout",
     "output_type": "stream",
     "text": [
      "a\n"
     ]
    }
   ],
   "source": [
    "control_string(\"atlas\")"
   ]
  },
  {
   "cell_type": "code",
   "execution_count": 25,
   "id": "d1e7ffa6",
   "metadata": {},
   "outputs": [],
   "source": [
    "#args, kwargs (arguments,keywordarguments)"
   ]
  },
  {
   "cell_type": "code",
   "execution_count": 26,
   "id": "e75801b4",
   "metadata": {},
   "outputs": [],
   "source": [
    "def args_sum(*args):\n",
    "    return sum(args)"
   ]
  },
  {
   "cell_type": "code",
   "execution_count": 27,
   "id": "df0d7915",
   "metadata": {},
   "outputs": [
    {
     "data": {
      "text/plain": [
       "210"
      ]
     },
     "execution_count": 27,
     "metadata": {},
     "output_type": "execute_result"
    }
   ],
   "source": [
    "args_sum(10,20,30,40,50,60)"
   ]
  },
  {
   "cell_type": "code",
   "execution_count": 28,
   "id": "679edab9",
   "metadata": {},
   "outputs": [],
   "source": [
    "def args_example(*args):\n",
    "    print(args)"
   ]
  },
  {
   "cell_type": "code",
   "execution_count": 29,
   "id": "01e854c1",
   "metadata": {},
   "outputs": [
    {
     "name": "stdout",
     "output_type": "stream",
     "text": [
      "(123, 340, 505, 555, 690, 456)\n"
     ]
    }
   ],
   "source": [
    "args_example(123,340,505,555,690,456)"
   ]
  },
  {
   "cell_type": "code",
   "execution_count": 30,
   "id": "78a5ee6f",
   "metadata": {},
   "outputs": [],
   "source": [
    "def kwargs_example(**kwargs):\n",
    "    print(kwargs)"
   ]
  },
  {
   "cell_type": "code",
   "execution_count": 31,
   "id": "b7c16750",
   "metadata": {},
   "outputs": [
    {
     "name": "stdout",
     "output_type": "stream",
     "text": [
      "{'apple': 100, 'banana': 150, 'melon': 200}\n"
     ]
    }
   ],
   "source": [
    "kwargs_example(apple = 100, banana = 150, melon = 200)"
   ]
  },
  {
   "cell_type": "code",
   "execution_count": 32,
   "id": "d421a463",
   "metadata": {},
   "outputs": [],
   "source": [
    "def kwargs_example_2(**kwargs):\n",
    "    if \"apple\" in kwargs:\n",
    "        print(\"appleeee\")\n",
    "    else:\n",
    "        print(\":(\")"
   ]
  },
  {
   "cell_type": "code",
   "execution_count": 33,
   "id": "e98f8516",
   "metadata": {},
   "outputs": [
    {
     "name": "stdout",
     "output_type": "stream",
     "text": [
      "appleeee\n"
     ]
    }
   ],
   "source": [
    "kwargs_example_2(banana = 150, apple = 100, watermelon = 99)"
   ]
  },
  {
   "cell_type": "code",
   "execution_count": null,
   "id": "e3083f2d",
   "metadata": {},
   "outputs": [],
   "source": []
  }
 ],
 "metadata": {
  "kernelspec": {
   "display_name": "Python 3 (ipykernel)",
   "language": "python",
   "name": "python3"
  },
  "language_info": {
   "codemirror_mode": {
    "name": "ipython",
    "version": 3
   },
   "file_extension": ".py",
   "mimetype": "text/x-python",
   "name": "python",
   "nbconvert_exporter": "python",
   "pygments_lexer": "ipython3",
   "version": "3.9.7"
  }
 },
 "nbformat": 4,
 "nbformat_minor": 5
}
