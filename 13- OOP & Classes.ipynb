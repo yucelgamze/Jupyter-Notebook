{
 "cells": [
  {
   "cell_type": "code",
   "execution_count": 1,
   "id": "4432bf52",
   "metadata": {},
   "outputs": [],
   "source": [
    "gamzeName = \"Gamze\""
   ]
  },
  {
   "cell_type": "code",
   "execution_count": 2,
   "id": "0bbd1280",
   "metadata": {},
   "outputs": [],
   "source": [
    "gamzeAge = 19"
   ]
  },
  {
   "cell_type": "code",
   "execution_count": 3,
   "id": "e8ba492e",
   "metadata": {},
   "outputs": [],
   "source": [
    "gamzeGender = \"Female\""
   ]
  },
  {
   "cell_type": "code",
   "execution_count": 4,
   "id": "6cc4ed7f",
   "metadata": {},
   "outputs": [],
   "source": [
    "atlasName = \"Atlas\""
   ]
  },
  {
   "cell_type": "code",
   "execution_count": 5,
   "id": "ab3e5bdb",
   "metadata": {},
   "outputs": [],
   "source": [
    "atlasAge = 90"
   ]
  },
  {
   "cell_type": "code",
   "execution_count": 6,
   "id": "f86ba59a",
   "metadata": {},
   "outputs": [],
   "source": [
    "atlasGender = \"Male\""
   ]
  },
  {
   "cell_type": "code",
   "execution_count": 83,
   "id": "4262fab1",
   "metadata": {},
   "outputs": [],
   "source": [
    "class Person():\n",
    "    #property -> python'da özellikleri yazmak zorunda değiliz methodda yazdığımız zaman algılıyor.\n",
    "    \n",
    "    #name = \"\"\n",
    "    #age = 0\n",
    "    #gender= \"\"\n",
    "    job = \"\"\n",
    "    #method (sınıfların içindeki fonksiyon yani), ---initializer method----\n",
    "    \n",
    "    def __init__(self,name,age,gender):\n",
    "        print(\"init executed\")\n",
    "        self.name = name\n",
    "        self.age = age\n",
    "        self.gender = gender\n",
    "        \n",
    "    #method\n",
    "    def printName(self):\n",
    "        print(self.name)"
   ]
  },
  {
   "cell_type": "code",
   "execution_count": 84,
   "id": "e079511f",
   "metadata": {},
   "outputs": [
    {
     "name": "stdout",
     "output_type": "stream",
     "text": [
      "init executed\n"
     ]
    }
   ],
   "source": [
    "person1 = Person(\"atlas\",90,\"male\")"
   ]
  },
  {
   "cell_type": "code",
   "execution_count": 85,
   "id": "72d65dfb",
   "metadata": {},
   "outputs": [
    {
     "data": {
      "text/plain": [
       "__main__.Person"
      ]
     },
     "execution_count": 85,
     "metadata": {},
     "output_type": "execute_result"
    }
   ],
   "source": [
    "type(person1)"
   ]
  },
  {
   "cell_type": "code",
   "execution_count": 86,
   "id": "385b92e7",
   "metadata": {},
   "outputs": [
    {
     "data": {
      "text/plain": [
       "'atlas'"
      ]
     },
     "execution_count": 86,
     "metadata": {},
     "output_type": "execute_result"
    }
   ],
   "source": [
    "person1.name"
   ]
  },
  {
   "cell_type": "code",
   "execution_count": 87,
   "id": "ddff70cd",
   "metadata": {},
   "outputs": [
    {
     "name": "stdout",
     "output_type": "stream",
     "text": [
      "atlas\n"
     ]
    }
   ],
   "source": [
    "person1.printName()"
   ]
  },
  {
   "cell_type": "code",
   "execution_count": 88,
   "id": "5603414b",
   "metadata": {},
   "outputs": [],
   "source": [
    "person1.job = \"ai engineer\""
   ]
  },
  {
   "cell_type": "code",
   "execution_count": 89,
   "id": "403f3710",
   "metadata": {},
   "outputs": [
    {
     "data": {
      "text/plain": [
       "'ai engineer'"
      ]
     },
     "execution_count": 89,
     "metadata": {},
     "output_type": "execute_result"
    }
   ],
   "source": [
    "person1.job"
   ]
  },
  {
   "cell_type": "code",
   "execution_count": 105,
   "id": "be9919ef",
   "metadata": {},
   "outputs": [],
   "source": [
    "class Dog():\n",
    "    \n",
    "    year = 7\n",
    "    \n",
    "    def __init__(self,age):\n",
    "        self.age = age\n",
    "        self.doghumanAge = age * self.year\n",
    "    def humanAge(self):\n",
    "        return  self.age * self.year # (ya da --> return self.age * Dog.year )"
   ]
  },
  {
   "cell_type": "code",
   "execution_count": 106,
   "id": "3140bf00",
   "metadata": {},
   "outputs": [],
   "source": [
    "dog1 = Dog(3)"
   ]
  },
  {
   "cell_type": "code",
   "execution_count": 107,
   "id": "36032f4e",
   "metadata": {},
   "outputs": [
    {
     "data": {
      "text/plain": [
       "3"
      ]
     },
     "execution_count": 107,
     "metadata": {},
     "output_type": "execute_result"
    }
   ],
   "source": [
    "dog1.age"
   ]
  },
  {
   "cell_type": "code",
   "execution_count": 108,
   "id": "938896a1",
   "metadata": {},
   "outputs": [
    {
     "data": {
      "text/plain": [
       "21"
      ]
     },
     "execution_count": 108,
     "metadata": {},
     "output_type": "execute_result"
    }
   ],
   "source": [
    "dog1.humanAge()"
   ]
  },
  {
   "cell_type": "code",
   "execution_count": 109,
   "id": "58edafaf",
   "metadata": {},
   "outputs": [
    {
     "data": {
      "text/plain": [
       "21"
      ]
     },
     "execution_count": 109,
     "metadata": {},
     "output_type": "execute_result"
    }
   ],
   "source": [
    "dog1.doghumanAge"
   ]
  },
  {
   "cell_type": "code",
   "execution_count": null,
   "id": "e10be5ef",
   "metadata": {},
   "outputs": [],
   "source": []
  }
 ],
 "metadata": {
  "kernelspec": {
   "display_name": "Python 3 (ipykernel)",
   "language": "python",
   "name": "python3"
  },
  "language_info": {
   "codemirror_mode": {
    "name": "ipython",
    "version": 3
   },
   "file_extension": ".py",
   "mimetype": "text/x-python",
   "name": "python",
   "nbconvert_exporter": "python",
   "pygments_lexer": "ipython3",
   "version": "3.9.7"
  }
 },
 "nbformat": 4,
 "nbformat_minor": 5
}
