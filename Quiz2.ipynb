{
 "cells": [
  {
   "cell_type": "code",
   "execution_count": 1,
   "metadata": {},
   "outputs": [],
   "source": [
    "# 1) Aşağıdaki kodun çıktısı ne olacaktır?"
   ]
  },
  {
   "cell_type": "code",
   "execution_count": 2,
   "metadata": {},
   "outputs": [],
   "source": [
    "x = 5\n",
    "y = 3\n",
    "z = 6"
   ]
  },
  {
   "cell_type": "markdown",
   "metadata": {},
   "source": [
    "x > y and z > x"
   ]
  },
  {
   "cell_type": "code",
   "execution_count": 3,
   "metadata": {},
   "outputs": [],
   "source": [
    "# cevap 1 and 1 = 1 (true)"
   ]
  },
  {
   "cell_type": "code",
   "execution_count": 4,
   "metadata": {},
   "outputs": [
    {
     "data": {
      "text/plain": [
       "True"
      ]
     },
     "execution_count": 4,
     "metadata": {},
     "output_type": "execute_result"
    }
   ],
   "source": [
    "x = 5\n",
    "y = 3\n",
    "z = 6\n",
    "x > y and z > x"
   ]
  },
  {
   "cell_type": "code",
   "execution_count": 5,
   "metadata": {},
   "outputs": [],
   "source": [
    "# 2) Aynı değerlerle kod şu şekilde değiştilirse çıktı ne olacaktır?"
   ]
  },
  {
   "cell_type": "markdown",
   "metadata": {},
   "source": [
    "x < y or z > y"
   ]
  },
  {
   "cell_type": "code",
   "execution_count": 6,
   "metadata": {},
   "outputs": [],
   "source": [
    "# cevap 0 or 1 = 1 (true)"
   ]
  },
  {
   "cell_type": "code",
   "execution_count": 7,
   "metadata": {},
   "outputs": [
    {
     "data": {
      "text/plain": [
       "True"
      ]
     },
     "execution_count": 7,
     "metadata": {},
     "output_type": "execute_result"
    }
   ],
   "source": [
    "x = 5\n",
    "y = 3\n",
    "z = 6\n",
    "x < y or z > y"
   ]
  },
  {
   "cell_type": "code",
   "execution_count": 8,
   "metadata": {},
   "outputs": [],
   "source": [
    "# 3) Aşağıdaki kodun çıktısı ne olacaktır?"
   ]
  },
  {
   "cell_type": "code",
   "execution_count": 9,
   "metadata": {},
   "outputs": [
    {
     "data": {
      "text/plain": [
       "'\\nyas = 20\\n\\nif yas < 18:\\n    print(\"18 yaşından küçüksünüz\")\\nelif yas >= 18 and yas < 30:\\n    print(\"18 ile 30 yaş arasında bir gençsiniz\")\\nelif yas >= 30 and yas < 40:\\n    print(\"30 ve 40 arasına gelmişsiniz\")\\nelse:\\n    print(\"40 yaşından daha büyüksünüz\")\\n'"
      ]
     },
     "execution_count": 9,
     "metadata": {},
     "output_type": "execute_result"
    }
   ],
   "source": [
    "'''\n",
    "yas = 20\n",
    "\n",
    "if yas < 18:\n",
    "    print(\"18 yaşından küçüksünüz\")\n",
    "elif yas >= 18 and yas < 30:\n",
    "    print(\"18 ile 30 yaş arasında bir gençsiniz\")\n",
    "elif yas >= 30 and yas < 40:\n",
    "    print(\"30 ve 40 arasına gelmişsiniz\")\n",
    "else:\n",
    "    print(\"40 yaşından daha büyüksünüz\")\n",
    "'''"
   ]
  },
  {
   "cell_type": "code",
   "execution_count": 10,
   "metadata": {},
   "outputs": [],
   "source": [
    "# cevap :18 ile 30 yaş arasında bir gençsiniz"
   ]
  },
  {
   "cell_type": "code",
   "execution_count": 11,
   "metadata": {},
   "outputs": [],
   "source": [
    "#4) Aşağıdaki sözlükte, değerler içinde c harfinin geçip geçmediğini gösteren bir if koşulu yazınız"
   ]
  },
  {
   "cell_type": "code",
   "execution_count": 12,
   "metadata": {},
   "outputs": [],
   "source": [
    "my_dictionary = {\"k1\":10,\"k2k\":\"a\",\"k32\":30,\"k4\":\"c\"}"
   ]
  },
  {
   "cell_type": "code",
   "execution_count": 13,
   "metadata": {},
   "outputs": [
    {
     "name": "stdout",
     "output_type": "stream",
     "text": [
      "sözlüğün değerlerinde c harfi mevcuttur\n"
     ]
    }
   ],
   "source": [
    "if \"c\" in my_dictionary.values():\n",
    "    print(\"sözlüğün değerlerinde c harfi mevcuttur\")\n",
    "else:\n",
    "    print(\"sözlüğün değerlerinde c harfi yoktur\")"
   ]
  },
  {
   "cell_type": "code",
   "execution_count": 14,
   "metadata": {},
   "outputs": [],
   "source": [
    "#5) Aşağıdaki sözlükte, anahtarlar içinde a harfinin geçip geçmediğini gösteren bir if koşulu yazınız"
   ]
  },
  {
   "cell_type": "code",
   "execution_count": 15,
   "metadata": {},
   "outputs": [],
   "source": [
    "my_other_dictionary = {\"b\":203,\"c\":\"a\",\"a\":400,\"d\":\"f\"}"
   ]
  },
  {
   "cell_type": "code",
   "execution_count": 16,
   "metadata": {},
   "outputs": [
    {
     "name": "stdout",
     "output_type": "stream",
     "text": [
      "sözlüğün anahtarlarında a harfi mevcuttur\n"
     ]
    }
   ],
   "source": [
    "if \"a\" in my_other_dictionary.keys():\n",
    "    print(\"sözlüğün anahtarlarında a harfi mevcuttur\")\n",
    "else:\n",
    "    print(\"sözlüğün anahtarlarında a harfi yoktur.\")"
   ]
  },
  {
   "cell_type": "code",
   "execution_count": 17,
   "metadata": {},
   "outputs": [],
   "source": [
    "#6) Aşağıdaki listedeki sayılardan sadece çift sayı olanları yazdıran bir kod yazınız."
   ]
  },
  {
   "cell_type": "code",
   "execution_count": 18,
   "metadata": {},
   "outputs": [],
   "source": [
    "my_numbers = [1,2,3,4,5,6,19,20,32,21,20,1111,23,24]"
   ]
  },
  {
   "cell_type": "code",
   "execution_count": 19,
   "metadata": {},
   "outputs": [
    {
     "name": "stdout",
     "output_type": "stream",
     "text": [
      "2\n",
      "4\n",
      "6\n",
      "20\n",
      "32\n",
      "20\n",
      "24\n"
     ]
    }
   ],
   "source": [
    "for i in my_numbers:\n",
    "    if i % 2 == 0:\n",
    "        print(i)"
   ]
  },
  {
   "cell_type": "code",
   "execution_count": 20,
   "metadata": {},
   "outputs": [],
   "source": [
    "#7) Aşağıdaki listedeki sayılar bir dairenin yarı çapını vermektedir. "
   ]
  },
  {
   "cell_type": "code",
   "execution_count": 21,
   "metadata": {},
   "outputs": [],
   "source": [
    "#Tüm dairelerin çevresini içeren başka yeni bir liste oluşturunuz. (İpucu: 2 * pi * r)  Pi 3.14 alınabilir."
   ]
  },
  {
   "cell_type": "code",
   "execution_count": 22,
   "metadata": {},
   "outputs": [],
   "source": [
    "r_list = [3,2,5,8,4,6,9,12]"
   ]
  },
  {
   "cell_type": "code",
   "execution_count": 23,
   "metadata": {},
   "outputs": [],
   "source": [
    "circumference_list = []"
   ]
  },
  {
   "cell_type": "code",
   "execution_count": 24,
   "metadata": {},
   "outputs": [],
   "source": [
    "Pi = 3.14\n",
    "for i in r_list:\n",
    "    circumference_list.append(2 * Pi * i)"
   ]
  },
  {
   "cell_type": "code",
   "execution_count": 25,
   "metadata": {},
   "outputs": [
    {
     "data": {
      "text/plain": [
       "[18.84, 12.56, 31.400000000000002, 50.24, 25.12, 37.68, 56.52, 75.36]"
      ]
     },
     "execution_count": 25,
     "metadata": {},
     "output_type": "execute_result"
    }
   ],
   "source": [
    "circumference_list"
   ]
  },
  {
   "cell_type": "code",
   "execution_count": 26,
   "metadata": {},
   "outputs": [],
   "source": [
    "#8) Aşağıdaki listede isim - yaş eşleşmelerinin bulunduğu yapılar mevcuttur."
   ]
  },
  {
   "cell_type": "code",
   "execution_count": 27,
   "metadata": {},
   "outputs": [],
   "source": [
    "# Sadece yaşların olduğu yeni ve ayrı bir liste oluşturunuz."
   ]
  },
  {
   "cell_type": "code",
   "execution_count": 51,
   "metadata": {},
   "outputs": [],
   "source": [
    "age_name_list = [(\"Ahmet\",30),(\"Ayse\",24),(\"Mehmet\",40),(\"Fatma\",29)]"
   ]
  },
  {
   "cell_type": "code",
   "execution_count": 52,
   "metadata": {},
   "outputs": [],
   "source": [
    "age_list = []"
   ]
  },
  {
   "cell_type": "code",
   "execution_count": 53,
   "metadata": {},
   "outputs": [],
   "source": [
    "age_list.append(age_name_list[0][1])\n",
    "age_list.append(age_name_list[1][1])\n",
    "age_list.append(age_name_list[2][1])"
   ]
  },
  {
   "cell_type": "code",
   "execution_count": 54,
   "metadata": {},
   "outputs": [
    {
     "data": {
      "text/plain": [
       "[30, 24, 40]"
      ]
     },
     "execution_count": 54,
     "metadata": {},
     "output_type": "execute_result"
    }
   ],
   "source": [
    "age_list"
   ]
  },
  {
   "cell_type": "code",
   "execution_count": 69,
   "metadata": {},
   "outputs": [],
   "source": [
    "yaslar = []\n",
    "for (isim,yas) in age_name_list:\n",
    "    yaslar.append(yas)"
   ]
  },
  {
   "cell_type": "code",
   "execution_count": 70,
   "metadata": {},
   "outputs": [
    {
     "data": {
      "text/plain": [
       "[30, 24, 40, 29]"
      ]
     },
     "execution_count": 70,
     "metadata": {},
     "output_type": "execute_result"
    }
   ],
   "source": [
    "yaslar"
   ]
  },
  {
   "cell_type": "code",
   "execution_count": 32,
   "metadata": {},
   "outputs": [],
   "source": [
    "#9) Aşağıdaki müzik gruplarından birini rastgele yazdıran bir kod yazınız"
   ]
  },
  {
   "cell_type": "code",
   "execution_count": 56,
   "metadata": {},
   "outputs": [],
   "source": [
    "metal_list = [\"Metallica\",\"Iron Maiden\",\"Dream Theater\",\"Megadeth\",\"AC/DC\"]"
   ]
  },
  {
   "cell_type": "code",
   "execution_count": 61,
   "metadata": {},
   "outputs": [],
   "source": [
    "from random import randint"
   ]
  },
  {
   "cell_type": "code",
   "execution_count": 64,
   "metadata": {},
   "outputs": [
    {
     "data": {
      "text/plain": [
       "'Metallica'"
      ]
     },
     "execution_count": 64,
     "metadata": {},
     "output_type": "execute_result"
    }
   ],
   "source": [
    "metal_list[randint(0,len(metal_list) - 1)]"
   ]
  },
  {
   "cell_type": "code",
   "execution_count": 37,
   "metadata": {},
   "outputs": [],
   "source": [
    "#10) Aşağıdaki kodun çıktısı ne olacaktır?"
   ]
  },
  {
   "cell_type": "code",
   "execution_count": 65,
   "metadata": {},
   "outputs": [],
   "source": [
    "number_list = [5,7,18,21,20,10,405,24]"
   ]
  },
  {
   "cell_type": "markdown",
   "metadata": {},
   "source": [
    "[num % 2 == 0 for num in number_list]"
   ]
  },
  {
   "cell_type": "code",
   "execution_count": 67,
   "metadata": {},
   "outputs": [],
   "source": [
    "# cevap çift olan sayıları true tek sayıları false gösterir"
   ]
  },
  {
   "cell_type": "code",
   "execution_count": 66,
   "metadata": {},
   "outputs": [
    {
     "data": {
      "text/plain": [
       "[False, False, True, False, True, True, False, True]"
      ]
     },
     "execution_count": 66,
     "metadata": {},
     "output_type": "execute_result"
    }
   ],
   "source": [
    "[num % 2 == 0 for num in number_list]"
   ]
  }
 ],
 "metadata": {
  "kernelspec": {
   "display_name": "Python 3 (ipykernel)",
   "language": "python",
   "name": "python3"
  },
  "language_info": {
   "codemirror_mode": {
    "name": "ipython",
    "version": 3
   },
   "file_extension": ".py",
   "mimetype": "text/x-python",
   "name": "python",
   "nbconvert_exporter": "python",
   "pygments_lexer": "ipython3",
   "version": "3.9.7"
  }
 },
 "nbformat": 4,
 "nbformat_minor": 4
}
