{
 "cells": [
  {
   "cell_type": "code",
   "execution_count": 1,
   "id": "4440e1df",
   "metadata": {},
   "outputs": [],
   "source": [
    "myString = \"hello python\""
   ]
  },
  {
   "cell_type": "code",
   "execution_count": 2,
   "id": "417d0d21",
   "metadata": {},
   "outputs": [
    {
     "data": {
      "text/plain": [
       "['hello', 'python']"
      ]
     },
     "execution_count": 2,
     "metadata": {},
     "output_type": "execute_result"
    }
   ],
   "source": [
    "myString.split()"
   ]
  },
  {
   "cell_type": "code",
   "execution_count": 3,
   "id": "d754c69b",
   "metadata": {},
   "outputs": [
    {
     "data": {
      "text/plain": [
       "list"
      ]
     },
     "execution_count": 3,
     "metadata": {},
     "output_type": "execute_result"
    }
   ],
   "source": [
    "type(myString.split())"
   ]
  },
  {
   "cell_type": "code",
   "execution_count": 4,
   "id": "c5e65707",
   "metadata": {},
   "outputs": [],
   "source": [
    "#list -> içinde birden fazla veri tutan bir yapı! yukarıda içinde iki adet String verisini tutuyor."
   ]
  },
  {
   "cell_type": "code",
   "execution_count": 5,
   "id": "15e54b7a",
   "metadata": {},
   "outputs": [
    {
     "data": {
      "text/plain": [
       "'hello python'"
      ]
     },
     "execution_count": 5,
     "metadata": {},
     "output_type": "execute_result"
    }
   ],
   "source": [
    "myString"
   ]
  },
  {
   "cell_type": "code",
   "execution_count": 6,
   "id": "d8048eac",
   "metadata": {},
   "outputs": [
    {
     "data": {
      "text/plain": [
       "'h'"
      ]
     },
     "execution_count": 6,
     "metadata": {},
     "output_type": "execute_result"
    }
   ],
   "source": [
    "myString[0]"
   ]
  },
  {
   "cell_type": "code",
   "execution_count": 7,
   "id": "b5e83c24",
   "metadata": {},
   "outputs": [],
   "source": [
    "# myString[0] = 'h' -> this causes an error! Because: You cannot change an individual elements of a string array."
   ]
  },
  {
   "cell_type": "code",
   "execution_count": 8,
   "id": "f9cec59a",
   "metadata": {},
   "outputs": [],
   "source": [
    "#immutable - immutability"
   ]
  },
  {
   "cell_type": "code",
   "execution_count": 9,
   "id": "56c4ed03",
   "metadata": {},
   "outputs": [],
   "source": [
    "myString = \"gamze\" #but you can change the whole thing "
   ]
  },
  {
   "cell_type": "markdown",
   "id": "3797b748",
   "metadata": {},
   "source": [
    "# list"
   ]
  },
  {
   "cell_type": "code",
   "execution_count": 10,
   "id": "796ac5ca",
   "metadata": {},
   "outputs": [],
   "source": [
    "myList = [10,20,30]"
   ]
  },
  {
   "cell_type": "code",
   "execution_count": 11,
   "id": "89863369",
   "metadata": {},
   "outputs": [
    {
     "data": {
      "text/plain": [
       "list"
      ]
     },
     "execution_count": 11,
     "metadata": {},
     "output_type": "execute_result"
    }
   ],
   "source": [
    "type(myList)"
   ]
  },
  {
   "cell_type": "code",
   "execution_count": 12,
   "id": "aa86c219",
   "metadata": {},
   "outputs": [],
   "source": [
    "x = 10\n",
    "y = 20\n",
    "z = 30"
   ]
  },
  {
   "cell_type": "code",
   "execution_count": 13,
   "id": "158fa521",
   "metadata": {},
   "outputs": [],
   "source": [
    "myList = [x,y,z]"
   ]
  },
  {
   "cell_type": "code",
   "execution_count": 14,
   "id": "893919f7",
   "metadata": {},
   "outputs": [
    {
     "data": {
      "text/plain": [
       "[10, 20, 30]"
      ]
     },
     "execution_count": 14,
     "metadata": {},
     "output_type": "execute_result"
    }
   ],
   "source": [
    "myList"
   ]
  },
  {
   "cell_type": "code",
   "execution_count": 15,
   "id": "b827d4ee",
   "metadata": {},
   "outputs": [
    {
     "data": {
      "text/plain": [
       "list"
      ]
     },
     "execution_count": 15,
     "metadata": {},
     "output_type": "execute_result"
    }
   ],
   "source": [
    "type(myList)"
   ]
  },
  {
   "cell_type": "code",
   "execution_count": 16,
   "id": "b5cb4fb8",
   "metadata": {},
   "outputs": [
    {
     "data": {
      "text/plain": [
       "int"
      ]
     },
     "execution_count": 16,
     "metadata": {},
     "output_type": "execute_result"
    }
   ],
   "source": [
    "type(myList[0])"
   ]
  },
  {
   "cell_type": "code",
   "execution_count": 17,
   "id": "d3969ef7",
   "metadata": {},
   "outputs": [
    {
     "data": {
      "text/plain": [
       "10"
      ]
     },
     "execution_count": 17,
     "metadata": {},
     "output_type": "execute_result"
    }
   ],
   "source": [
    "myList[0] "
   ]
  },
  {
   "cell_type": "code",
   "execution_count": 18,
   "id": "dff33ad2",
   "metadata": {},
   "outputs": [],
   "source": [
    "myList[0] = 100"
   ]
  },
  {
   "cell_type": "code",
   "execution_count": 19,
   "id": "0552df3f",
   "metadata": {},
   "outputs": [],
   "source": [
    "#mutable - mutability"
   ]
  },
  {
   "cell_type": "code",
   "execution_count": 20,
   "id": "409870c0",
   "metadata": {},
   "outputs": [
    {
     "data": {
      "text/plain": [
       "[100, 20, 30]"
      ]
     },
     "execution_count": 20,
     "metadata": {},
     "output_type": "execute_result"
    }
   ],
   "source": [
    "myList"
   ]
  },
  {
   "cell_type": "code",
   "execution_count": 21,
   "id": "9e98c128",
   "metadata": {},
   "outputs": [
    {
     "data": {
      "text/plain": [
       "3"
      ]
     },
     "execution_count": 21,
     "metadata": {},
     "output_type": "execute_result"
    }
   ],
   "source": [
    "len(myList)"
   ]
  },
  {
   "cell_type": "code",
   "execution_count": 22,
   "id": "f6cc9604",
   "metadata": {},
   "outputs": [
    {
     "data": {
      "text/plain": [
       "30"
      ]
     },
     "execution_count": 22,
     "metadata": {},
     "output_type": "execute_result"
    }
   ],
   "source": [
    "myList[len(myList) -1]"
   ]
  },
  {
   "cell_type": "code",
   "execution_count": 23,
   "id": "e8bb5335",
   "metadata": {},
   "outputs": [
    {
     "data": {
      "text/plain": [
       "30"
      ]
     },
     "execution_count": 23,
     "metadata": {},
     "output_type": "execute_result"
    }
   ],
   "source": [
    "myList[-1]"
   ]
  },
  {
   "cell_type": "code",
   "execution_count": 24,
   "id": "5256b82e",
   "metadata": {},
   "outputs": [
    {
     "data": {
      "text/plain": [
       "[100, 20, 30]"
      ]
     },
     "execution_count": 24,
     "metadata": {},
     "output_type": "execute_result"
    }
   ],
   "source": [
    "myList"
   ]
  },
  {
   "cell_type": "code",
   "execution_count": 25,
   "id": "30041823",
   "metadata": {},
   "outputs": [],
   "source": [
    "myList.append(90)"
   ]
  },
  {
   "cell_type": "code",
   "execution_count": 26,
   "id": "674c5e04",
   "metadata": {},
   "outputs": [
    {
     "data": {
      "text/plain": [
       "[100, 20, 30, 90]"
      ]
     },
     "execution_count": 26,
     "metadata": {},
     "output_type": "execute_result"
    }
   ],
   "source": [
    "myList"
   ]
  },
  {
   "cell_type": "code",
   "execution_count": 27,
   "id": "0ff847df",
   "metadata": {},
   "outputs": [],
   "source": [
    "myList.append(80)"
   ]
  },
  {
   "cell_type": "code",
   "execution_count": 28,
   "id": "ddb9c407",
   "metadata": {},
   "outputs": [
    {
     "data": {
      "text/plain": [
       "[100, 20, 30, 90, 80]"
      ]
     },
     "execution_count": 28,
     "metadata": {},
     "output_type": "execute_result"
    }
   ],
   "source": [
    "myList"
   ]
  },
  {
   "cell_type": "code",
   "execution_count": 29,
   "id": "c2355c41",
   "metadata": {},
   "outputs": [
    {
     "data": {
      "text/plain": [
       "5"
      ]
     },
     "execution_count": 29,
     "metadata": {},
     "output_type": "execute_result"
    }
   ],
   "source": [
    "len(myList)"
   ]
  },
  {
   "cell_type": "code",
   "execution_count": 30,
   "id": "8f364c54",
   "metadata": {},
   "outputs": [
    {
     "data": {
      "text/plain": [
       "0"
      ]
     },
     "execution_count": 30,
     "metadata": {},
     "output_type": "execute_result"
    }
   ],
   "source": [
    "myList.count(10)"
   ]
  },
  {
   "cell_type": "code",
   "execution_count": 31,
   "id": "4d134b08",
   "metadata": {},
   "outputs": [
    {
     "data": {
      "text/plain": [
       "1"
      ]
     },
     "execution_count": 31,
     "metadata": {},
     "output_type": "execute_result"
    }
   ],
   "source": [
    "myList.count(90)"
   ]
  },
  {
   "cell_type": "code",
   "execution_count": 32,
   "id": "0f36aadf",
   "metadata": {},
   "outputs": [
    {
     "data": {
      "text/plain": [
       "3"
      ]
     },
     "execution_count": 32,
     "metadata": {},
     "output_type": "execute_result"
    }
   ],
   "source": [
    "myList.index(90)"
   ]
  },
  {
   "cell_type": "code",
   "execution_count": 33,
   "id": "87c43a1e",
   "metadata": {},
   "outputs": [],
   "source": [
    "myList.insert(1,10)"
   ]
  },
  {
   "cell_type": "code",
   "execution_count": 34,
   "id": "b713dbb8",
   "metadata": {},
   "outputs": [
    {
     "data": {
      "text/plain": [
       "[100, 10, 20, 30, 90, 80]"
      ]
     },
     "execution_count": 34,
     "metadata": {},
     "output_type": "execute_result"
    }
   ],
   "source": [
    "myList"
   ]
  },
  {
   "cell_type": "code",
   "execution_count": 36,
   "id": "11f3966a",
   "metadata": {},
   "outputs": [
    {
     "data": {
      "text/plain": [
       "80"
      ]
     },
     "execution_count": 36,
     "metadata": {},
     "output_type": "execute_result"
    }
   ],
   "source": [
    "myList.pop() #son elemanı attı"
   ]
  },
  {
   "cell_type": "code",
   "execution_count": 37,
   "id": "1e3d60a0",
   "metadata": {},
   "outputs": [
    {
     "data": {
      "text/plain": [
       "[100, 10, 20, 30, 90]"
      ]
     },
     "execution_count": 37,
     "metadata": {},
     "output_type": "execute_result"
    }
   ],
   "source": [
    "myList"
   ]
  },
  {
   "cell_type": "code",
   "execution_count": 38,
   "id": "9ab591e8",
   "metadata": {},
   "outputs": [],
   "source": [
    "myList.remove(100)"
   ]
  },
  {
   "cell_type": "code",
   "execution_count": 39,
   "id": "c088918b",
   "metadata": {},
   "outputs": [
    {
     "data": {
      "text/plain": [
       "[10, 20, 30, 90]"
      ]
     },
     "execution_count": 39,
     "metadata": {},
     "output_type": "execute_result"
    }
   ],
   "source": [
    "myList"
   ]
  },
  {
   "cell_type": "code",
   "execution_count": 40,
   "id": "9a4bb73a",
   "metadata": {},
   "outputs": [],
   "source": [
    "myList.sort()"
   ]
  },
  {
   "cell_type": "code",
   "execution_count": 41,
   "id": "9dd6738d",
   "metadata": {},
   "outputs": [
    {
     "data": {
      "text/plain": [
       "[10, 20, 30, 90]"
      ]
     },
     "execution_count": 41,
     "metadata": {},
     "output_type": "execute_result"
    }
   ],
   "source": [
    "myList"
   ]
  },
  {
   "cell_type": "code",
   "execution_count": 42,
   "id": "6a2f49e4",
   "metadata": {},
   "outputs": [],
   "source": [
    "myList.reverse()"
   ]
  },
  {
   "cell_type": "code",
   "execution_count": 44,
   "id": "bbc40c91",
   "metadata": {},
   "outputs": [
    {
     "data": {
      "text/plain": [
       "[90, 30, 20, 10]"
      ]
     },
     "execution_count": 44,
     "metadata": {},
     "output_type": "execute_result"
    }
   ],
   "source": [
    "myList"
   ]
  },
  {
   "cell_type": "code",
   "execution_count": 45,
   "id": "2c13a5fe",
   "metadata": {},
   "outputs": [],
   "source": [
    "myList.sort()"
   ]
  },
  {
   "cell_type": "code",
   "execution_count": 46,
   "id": "1d4d58d0",
   "metadata": {},
   "outputs": [
    {
     "data": {
      "text/plain": [
       "[10, 20, 30, 90]"
      ]
     },
     "execution_count": 46,
     "metadata": {},
     "output_type": "execute_result"
    }
   ],
   "source": [
    "myList"
   ]
  },
  {
   "cell_type": "code",
   "execution_count": 47,
   "id": "9941ff35",
   "metadata": {},
   "outputs": [
    {
     "name": "stdout",
     "output_type": "stream",
     "text": [
      "enter x9\n"
     ]
    }
   ],
   "source": [
    "x = input(\"enter x\")"
   ]
  },
  {
   "cell_type": "code",
   "execution_count": 48,
   "id": "aada5e91",
   "metadata": {},
   "outputs": [
    {
     "data": {
      "text/plain": [
       "'9'"
      ]
     },
     "execution_count": 48,
     "metadata": {},
     "output_type": "execute_result"
    }
   ],
   "source": [
    "x"
   ]
  },
  {
   "cell_type": "code",
   "execution_count": 49,
   "id": "f816dc1c",
   "metadata": {},
   "outputs": [
    {
     "data": {
      "text/plain": [
       "str"
      ]
     },
     "execution_count": 49,
     "metadata": {},
     "output_type": "execute_result"
    }
   ],
   "source": [
    "type(x)"
   ]
  },
  {
   "cell_type": "code",
   "execution_count": 50,
   "id": "3bccc11e",
   "metadata": {},
   "outputs": [
    {
     "name": "stdout",
     "output_type": "stream",
     "text": [
      "enter y:3\n"
     ]
    }
   ],
   "source": [
    "y = input(\"enter y:\")"
   ]
  },
  {
   "cell_type": "code",
   "execution_count": 51,
   "id": "eb065f13",
   "metadata": {},
   "outputs": [
    {
     "name": "stdout",
     "output_type": "stream",
     "text": [
      "enter z:6\n"
     ]
    }
   ],
   "source": [
    "z = input(\"enter z:\")"
   ]
  },
  {
   "cell_type": "code",
   "execution_count": 52,
   "id": "dfb2e983",
   "metadata": {},
   "outputs": [],
   "source": [
    "inputList = []"
   ]
  },
  {
   "cell_type": "code",
   "execution_count": 53,
   "id": "b6bd0a98",
   "metadata": {},
   "outputs": [
    {
     "data": {
      "text/plain": [
       "list"
      ]
     },
     "execution_count": 53,
     "metadata": {},
     "output_type": "execute_result"
    }
   ],
   "source": [
    "type(inputList)"
   ]
  },
  {
   "cell_type": "code",
   "execution_count": 54,
   "id": "520be11b",
   "metadata": {},
   "outputs": [
    {
     "data": {
      "text/plain": [
       "0"
      ]
     },
     "execution_count": 54,
     "metadata": {},
     "output_type": "execute_result"
    }
   ],
   "source": [
    "len(inputList)"
   ]
  },
  {
   "cell_type": "code",
   "execution_count": 55,
   "id": "a2afb2c2",
   "metadata": {},
   "outputs": [
    {
     "data": {
      "text/plain": [
       "[]"
      ]
     },
     "execution_count": 55,
     "metadata": {},
     "output_type": "execute_result"
    }
   ],
   "source": [
    "inputList"
   ]
  },
  {
   "cell_type": "code",
   "execution_count": 56,
   "id": "00fc0ab8",
   "metadata": {},
   "outputs": [],
   "source": [
    "inputList.append(x)\n",
    "inputList.append(y)\n",
    "inputList.append(z)"
   ]
  },
  {
   "cell_type": "code",
   "execution_count": 57,
   "id": "010578a1",
   "metadata": {},
   "outputs": [
    {
     "data": {
      "text/plain": [
       "['9', '3', '6']"
      ]
     },
     "execution_count": 57,
     "metadata": {},
     "output_type": "execute_result"
    }
   ],
   "source": [
    "inputList"
   ]
  },
  {
   "cell_type": "code",
   "execution_count": 58,
   "id": "ae4ef001",
   "metadata": {},
   "outputs": [
    {
     "data": {
      "text/plain": [
       "'3'"
      ]
     },
     "execution_count": 58,
     "metadata": {},
     "output_type": "execute_result"
    }
   ],
   "source": [
    "inputList[1]"
   ]
  },
  {
   "cell_type": "code",
   "execution_count": 59,
   "id": "04e520be",
   "metadata": {},
   "outputs": [
    {
     "data": {
      "text/plain": [
       "'33'"
      ]
     },
     "execution_count": 59,
     "metadata": {},
     "output_type": "execute_result"
    }
   ],
   "source": [
    "inputList[1]*2"
   ]
  },
  {
   "cell_type": "code",
   "execution_count": 60,
   "id": "4eb06cdc",
   "metadata": {},
   "outputs": [
    {
     "data": {
      "text/plain": [
       "str"
      ]
     },
     "execution_count": 60,
     "metadata": {},
     "output_type": "execute_result"
    }
   ],
   "source": [
    "type(inputList[1])"
   ]
  },
  {
   "cell_type": "code",
   "execution_count": 61,
   "id": "a19f030f",
   "metadata": {},
   "outputs": [],
   "source": [
    "myInteger = 10"
   ]
  },
  {
   "cell_type": "code",
   "execution_count": 62,
   "id": "744e3901",
   "metadata": {},
   "outputs": [
    {
     "data": {
      "text/plain": [
       "int"
      ]
     },
     "execution_count": 62,
     "metadata": {},
     "output_type": "execute_result"
    }
   ],
   "source": [
    "type(myInteger)"
   ]
  },
  {
   "cell_type": "code",
   "execution_count": 63,
   "id": "7e08ca98",
   "metadata": {},
   "outputs": [
    {
     "data": {
      "text/plain": [
       "'10'"
      ]
     },
     "execution_count": 63,
     "metadata": {},
     "output_type": "execute_result"
    }
   ],
   "source": [
    "str(myInteger)"
   ]
  },
  {
   "cell_type": "code",
   "execution_count": 64,
   "id": "6772a5ad",
   "metadata": {},
   "outputs": [],
   "source": [
    "myStringg = \"60\""
   ]
  },
  {
   "cell_type": "code",
   "execution_count": 65,
   "id": "ab4b1cb5",
   "metadata": {},
   "outputs": [
    {
     "data": {
      "text/plain": [
       "60"
      ]
     },
     "execution_count": 65,
     "metadata": {},
     "output_type": "execute_result"
    }
   ],
   "source": [
    "int(myStringg)"
   ]
  },
  {
   "cell_type": "code",
   "execution_count": 66,
   "id": "efc444d8",
   "metadata": {},
   "outputs": [
    {
     "data": {
      "text/plain": [
       "60.0"
      ]
     },
     "execution_count": 66,
     "metadata": {},
     "output_type": "execute_result"
    }
   ],
   "source": [
    "float(myStringg)"
   ]
  },
  {
   "cell_type": "code",
   "execution_count": 67,
   "id": "458e671a",
   "metadata": {},
   "outputs": [],
   "source": [
    "myStringg = \"python\""
   ]
  },
  {
   "cell_type": "code",
   "execution_count": 69,
   "id": "ac3e9baf",
   "metadata": {},
   "outputs": [],
   "source": [
    "#float(myStringg) -invalid "
   ]
  },
  {
   "cell_type": "code",
   "execution_count": 70,
   "id": "9513b46e",
   "metadata": {},
   "outputs": [
    {
     "data": {
      "text/plain": [
       "['9', '3', '6']"
      ]
     },
     "execution_count": 70,
     "metadata": {},
     "output_type": "execute_result"
    }
   ],
   "source": [
    "inputList"
   ]
  },
  {
   "cell_type": "code",
   "execution_count": 72,
   "id": "e1cdb1ae",
   "metadata": {},
   "outputs": [
    {
     "data": {
      "text/plain": [
       "12"
      ]
     },
     "execution_count": 72,
     "metadata": {},
     "output_type": "execute_result"
    }
   ],
   "source": [
    "int(inputList[2])*2"
   ]
  },
  {
   "cell_type": "code",
   "execution_count": 73,
   "id": "311f1011",
   "metadata": {},
   "outputs": [
    {
     "data": {
      "text/plain": [
       "\"['9', '3', '6']\""
      ]
     },
     "execution_count": 73,
     "metadata": {},
     "output_type": "execute_result"
    }
   ],
   "source": [
    "str(inputList)"
   ]
  },
  {
   "cell_type": "code",
   "execution_count": 76,
   "id": "6fa51817",
   "metadata": {},
   "outputs": [],
   "source": [
    "nameList = [\"atlas\",\"altay\",\"a\",\"b\"]"
   ]
  },
  {
   "cell_type": "code",
   "execution_count": 77,
   "id": "2270e21e",
   "metadata": {},
   "outputs": [
    {
     "data": {
      "text/plain": [
       "list"
      ]
     },
     "execution_count": 77,
     "metadata": {},
     "output_type": "execute_result"
    }
   ],
   "source": [
    "type(nameList)"
   ]
  },
  {
   "cell_type": "code",
   "execution_count": 78,
   "id": "36047b2a",
   "metadata": {},
   "outputs": [],
   "source": [
    "floatList = [23.5,56.6,451,0]"
   ]
  },
  {
   "cell_type": "code",
   "execution_count": 79,
   "id": "39b1a669",
   "metadata": {},
   "outputs": [
    {
     "data": {
      "text/plain": [
       "list"
      ]
     },
     "execution_count": 79,
     "metadata": {},
     "output_type": "execute_result"
    }
   ],
   "source": [
    "type(floatList)"
   ]
  },
  {
   "cell_type": "code",
   "execution_count": 86,
   "id": "1e06e380",
   "metadata": {},
   "outputs": [],
   "source": [
    "mixedList = [33, 0.9,\"gamzecik\"]"
   ]
  },
  {
   "cell_type": "code",
   "execution_count": 81,
   "id": "2b8190c6",
   "metadata": {},
   "outputs": [
    {
     "data": {
      "text/plain": [
       "list"
      ]
     },
     "execution_count": 81,
     "metadata": {},
     "output_type": "execute_result"
    }
   ],
   "source": [
    "type(mixedList)"
   ]
  },
  {
   "cell_type": "code",
   "execution_count": 82,
   "id": "8bfdded8",
   "metadata": {},
   "outputs": [],
   "source": [
    "list1 = [1,2,3]\n",
    "list2 = [4,5,6]"
   ]
  },
  {
   "cell_type": "code",
   "execution_count": 83,
   "id": "2e3b33f5",
   "metadata": {},
   "outputs": [
    {
     "data": {
      "text/plain": [
       "[1, 2, 3, 4, 5, 6]"
      ]
     },
     "execution_count": 83,
     "metadata": {},
     "output_type": "execute_result"
    }
   ],
   "source": [
    "list1 + list2"
   ]
  },
  {
   "cell_type": "code",
   "execution_count": 84,
   "id": "0e12b165",
   "metadata": {},
   "outputs": [
    {
     "data": {
      "text/plain": [
       "[1, 2, 3, 1, 2, 3]"
      ]
     },
     "execution_count": 84,
     "metadata": {},
     "output_type": "execute_result"
    }
   ],
   "source": [
    "list1 * 2"
   ]
  },
  {
   "cell_type": "code",
   "execution_count": 85,
   "id": "63975dec",
   "metadata": {},
   "outputs": [],
   "source": [
    "#list1 / 5 -invalid"
   ]
  },
  {
   "cell_type": "code",
   "execution_count": 87,
   "id": "d034f575",
   "metadata": {},
   "outputs": [
    {
     "data": {
      "text/plain": [
       "[33, 0.9, 'gamzecik']"
      ]
     },
     "execution_count": 87,
     "metadata": {},
     "output_type": "execute_result"
    }
   ],
   "source": [
    "mixedList"
   ]
  },
  {
   "cell_type": "code",
   "execution_count": 88,
   "id": "d300340a",
   "metadata": {},
   "outputs": [
    {
     "data": {
      "text/plain": [
       "int"
      ]
     },
     "execution_count": 88,
     "metadata": {},
     "output_type": "execute_result"
    }
   ],
   "source": [
    "type(mixedList[0]) #pekçok programlama dili bunu algılamamaz dönüşüm yapmak gerekir."
   ]
  },
  {
   "cell_type": "code",
   "execution_count": 89,
   "id": "0bd1ebd5",
   "metadata": {},
   "outputs": [
    {
     "data": {
      "text/plain": [
       "float"
      ]
     },
     "execution_count": 89,
     "metadata": {},
     "output_type": "execute_result"
    }
   ],
   "source": [
    "type(mixedList[1])"
   ]
  },
  {
   "cell_type": "code",
   "execution_count": 90,
   "id": "5ebc16ad",
   "metadata": {},
   "outputs": [
    {
     "data": {
      "text/plain": [
       "str"
      ]
     },
     "execution_count": 90,
     "metadata": {},
     "output_type": "execute_result"
    }
   ],
   "source": [
    "type(mixedList[2])"
   ]
  },
  {
   "cell_type": "markdown",
   "id": "64d87aff",
   "metadata": {},
   "source": [
    "# nestedList"
   ]
  },
  {
   "cell_type": "code",
   "execution_count": 91,
   "id": "a1b48ab0",
   "metadata": {},
   "outputs": [],
   "source": [
    "myNestedList = [1,2,3.14,\"peach\",[10,20,30]]"
   ]
  },
  {
   "cell_type": "code",
   "execution_count": 92,
   "id": "96676c52",
   "metadata": {},
   "outputs": [
    {
     "data": {
      "text/plain": [
       "1"
      ]
     },
     "execution_count": 92,
     "metadata": {},
     "output_type": "execute_result"
    }
   ],
   "source": [
    "myNestedList[0]"
   ]
  },
  {
   "cell_type": "code",
   "execution_count": 93,
   "id": "7207c0e9",
   "metadata": {},
   "outputs": [
    {
     "data": {
      "text/plain": [
       "2"
      ]
     },
     "execution_count": 93,
     "metadata": {},
     "output_type": "execute_result"
    }
   ],
   "source": [
    "myNestedList[1]"
   ]
  },
  {
   "cell_type": "code",
   "execution_count": 94,
   "id": "38ca541c",
   "metadata": {},
   "outputs": [
    {
     "data": {
      "text/plain": [
       "3.14"
      ]
     },
     "execution_count": 94,
     "metadata": {},
     "output_type": "execute_result"
    }
   ],
   "source": [
    "myNestedList[2]"
   ]
  },
  {
   "cell_type": "code",
   "execution_count": 95,
   "id": "ed526f87",
   "metadata": {},
   "outputs": [
    {
     "data": {
      "text/plain": [
       "'peach'"
      ]
     },
     "execution_count": 95,
     "metadata": {},
     "output_type": "execute_result"
    }
   ],
   "source": [
    "myNestedList[3]"
   ]
  },
  {
   "cell_type": "code",
   "execution_count": 96,
   "id": "a694ad24",
   "metadata": {},
   "outputs": [
    {
     "data": {
      "text/plain": [
       "[10, 20, 30]"
      ]
     },
     "execution_count": 96,
     "metadata": {},
     "output_type": "execute_result"
    }
   ],
   "source": [
    "myNestedList[4]"
   ]
  },
  {
   "cell_type": "code",
   "execution_count": 97,
   "id": "bd59374a",
   "metadata": {},
   "outputs": [],
   "source": [
    "x = myNestedList[0]"
   ]
  },
  {
   "cell_type": "code",
   "execution_count": 98,
   "id": "013505e2",
   "metadata": {},
   "outputs": [
    {
     "data": {
      "text/plain": [
       "1"
      ]
     },
     "execution_count": 98,
     "metadata": {},
     "output_type": "execute_result"
    }
   ],
   "source": [
    "x"
   ]
  },
  {
   "cell_type": "code",
   "execution_count": 99,
   "id": "95ee66f2",
   "metadata": {},
   "outputs": [],
   "source": [
    "smallList = myNestedList[4]"
   ]
  },
  {
   "cell_type": "code",
   "execution_count": 100,
   "id": "1ab4df23",
   "metadata": {},
   "outputs": [
    {
     "data": {
      "text/plain": [
       "[10, 20, 30]"
      ]
     },
     "execution_count": 100,
     "metadata": {},
     "output_type": "execute_result"
    }
   ],
   "source": [
    "smallList"
   ]
  },
  {
   "cell_type": "code",
   "execution_count": 101,
   "id": "1f26fb7e",
   "metadata": {},
   "outputs": [],
   "source": [
    "smallList = myNestedList[-1]"
   ]
  },
  {
   "cell_type": "code",
   "execution_count": 102,
   "id": "49a27270",
   "metadata": {},
   "outputs": [
    {
     "data": {
      "text/plain": [
       "[10, 20, 30]"
      ]
     },
     "execution_count": 102,
     "metadata": {},
     "output_type": "execute_result"
    }
   ],
   "source": [
    "smallList"
   ]
  },
  {
   "cell_type": "code",
   "execution_count": 103,
   "id": "4c4856f5",
   "metadata": {},
   "outputs": [
    {
     "data": {
      "text/plain": [
       "[1, 2, 3.14, 'peach', [10, 20, 30]]"
      ]
     },
     "execution_count": 103,
     "metadata": {},
     "output_type": "execute_result"
    }
   ],
   "source": [
    "myNestedList"
   ]
  },
  {
   "cell_type": "code",
   "execution_count": 104,
   "id": "663c4fff",
   "metadata": {},
   "outputs": [
    {
     "data": {
      "text/plain": [
       "20"
      ]
     },
     "execution_count": 104,
     "metadata": {},
     "output_type": "execute_result"
    }
   ],
   "source": [
    "smallList[1]"
   ]
  },
  {
   "cell_type": "code",
   "execution_count": 105,
   "id": "97a54059",
   "metadata": {},
   "outputs": [
    {
     "data": {
      "text/plain": [
       "20"
      ]
     },
     "execution_count": 105,
     "metadata": {},
     "output_type": "execute_result"
    }
   ],
   "source": [
    "myNestedList[-1][1]"
   ]
  },
  {
   "cell_type": "code",
   "execution_count": 106,
   "id": "9a4bb3d9",
   "metadata": {},
   "outputs": [],
   "source": [
    "lastList = [\"a\",\"b\",[\"c\",\"d\",\"e\"],\"f\"]"
   ]
  },
  {
   "cell_type": "code",
   "execution_count": 107,
   "id": "d2db00bd",
   "metadata": {},
   "outputs": [
    {
     "data": {
      "text/plain": [
       "4"
      ]
     },
     "execution_count": 107,
     "metadata": {},
     "output_type": "execute_result"
    }
   ],
   "source": [
    "len(lastList)"
   ]
  },
  {
   "cell_type": "code",
   "execution_count": 108,
   "id": "0e036138",
   "metadata": {},
   "outputs": [
    {
     "data": {
      "text/plain": [
       "'d'"
      ]
     },
     "execution_count": 108,
     "metadata": {},
     "output_type": "execute_result"
    }
   ],
   "source": [
    "lastList[2][1]"
   ]
  },
  {
   "cell_type": "code",
   "execution_count": 109,
   "id": "baa848e0",
   "metadata": {},
   "outputs": [],
   "source": [
    "firstList = [10,20,30,40,50,60,70]"
   ]
  },
  {
   "cell_type": "code",
   "execution_count": 110,
   "id": "7412e925",
   "metadata": {},
   "outputs": [
    {
     "data": {
      "text/plain": [
       "[10, 20, 30, 40, 50, 60, 70]"
      ]
     },
     "execution_count": 110,
     "metadata": {},
     "output_type": "execute_result"
    }
   ],
   "source": [
    "firstList"
   ]
  },
  {
   "cell_type": "code",
   "execution_count": 111,
   "id": "b59450dd",
   "metadata": {},
   "outputs": [
    {
     "data": {
      "text/plain": [
       "[10, 20, 30, 40, 50, 60, 70]"
      ]
     },
     "execution_count": 111,
     "metadata": {},
     "output_type": "execute_result"
    }
   ],
   "source": [
    "firstList[::]"
   ]
  },
  {
   "cell_type": "code",
   "execution_count": 112,
   "id": "22155c38",
   "metadata": {},
   "outputs": [
    {
     "data": {
      "text/plain": [
       "[30, 40, 50, 60, 70]"
      ]
     },
     "execution_count": 112,
     "metadata": {},
     "output_type": "execute_result"
    }
   ],
   "source": [
    "firstList[2:]"
   ]
  },
  {
   "cell_type": "code",
   "execution_count": 114,
   "id": "6caf05c3",
   "metadata": {},
   "outputs": [
    {
     "data": {
      "text/plain": [
       "[10, 20, 30, 40, 50]"
      ]
     },
     "execution_count": 114,
     "metadata": {},
     "output_type": "execute_result"
    }
   ],
   "source": [
    "firstList[:5:] #4. indexi alır 5'i almaz"
   ]
  },
  {
   "cell_type": "code",
   "execution_count": 115,
   "id": "d39b8daa",
   "metadata": {},
   "outputs": [
    {
     "data": {
      "text/plain": [
       "[10, 30, 50, 70]"
      ]
     },
     "execution_count": 115,
     "metadata": {},
     "output_type": "execute_result"
    }
   ],
   "source": [
    "firstList[::2]"
   ]
  },
  {
   "cell_type": "code",
   "execution_count": 116,
   "id": "989adc6f",
   "metadata": {},
   "outputs": [
    {
     "data": {
      "text/plain": [
       "[20, 40, 60]"
      ]
     },
     "execution_count": 116,
     "metadata": {},
     "output_type": "execute_result"
    }
   ],
   "source": [
    "firstList[1:6:2]"
   ]
  },
  {
   "cell_type": "code",
   "execution_count": null,
   "id": "3faf5c5c",
   "metadata": {},
   "outputs": [],
   "source": []
  }
 ],
 "metadata": {
  "kernelspec": {
   "display_name": "Python 3 (ipykernel)",
   "language": "python",
   "name": "python3"
  },
  "language_info": {
   "codemirror_mode": {
    "name": "ipython",
    "version": 3
   },
   "file_extension": ".py",
   "mimetype": "text/x-python",
   "name": "python",
   "nbconvert_exporter": "python",
   "pygments_lexer": "ipython3",
   "version": "3.9.7"
  }
 },
 "nbformat": 4,
 "nbformat_minor": 5
}
